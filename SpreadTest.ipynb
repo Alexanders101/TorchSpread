{
 "cells": [
  {
   "cell_type": "code",
   "execution_count": 28,
   "metadata": {},
   "outputs": [],
   "source": [
    "import numpy as np\n",
    "import torch\n",
    "\n",
    "from torch import nn\n",
    "# from torch import multiprocessing\n",
    "import multiprocessing\n",
    "import pickle"
   ]
  },
  {
   "cell_type": "code",
   "execution_count": 34,
   "metadata": {},
   "outputs": [
    {
     "data": {
      "text/plain": [
       "b'\\x80\\x03ctorch._utils\\n_rebuild_tensor_v2\\nq\\x00(ctorch.storage\\n_load_from_bytes\\nq\\x01B\\xfc0\\x00\\x00\\x80\\x02\\x8a\\nl\\xfc\\x9cF\\xf9 j\\xa8P\\x19.\\x80\\x02M\\xe9\\x03.\\x80\\x02}q\\x00(X\\x10\\x00\\x00\\x00protocol_versionq\\x01M\\xe9\\x03X\\r\\x00\\x00\\x00little_endianq\\x02\\x88X\\n\\x00\\x00\\x00type_sizesq\\x03}q\\x04(X\\x05\\x00\\x00\\x00shortq\\x05K\\x02X\\x03\\x00\\x00\\x00intq\\x06K\\x04X\\x04\\x00\\x00\\x00longq\\x07K\\x04uu.\\x80\\x02(X\\x07\\x00\\x00\\x00storageq\\x00ctorch\\nFloatStorage\\nq\\x01X\\x0e\\x00\\x00\\x0093854648161808q\\x02X\\x03\\x00\\x00\\x00cpuq\\x03M\\x00\\x0cNtq\\x04Q.\\x80\\x02]q\\x00X\\x0e\\x00\\x00\\x0093854648161808q\\x01a.\\x00\\x0c\\x00\\x00\\x00\\x00\\x00\\x00\\xb8\\xf9\\x08>\\r\\x1b2?\\xae\\xac\\x86>\\x14(%?\\xa2J\\x18?4s\\x8c>2\\xf9\\xdc>\\x05\\x8eW?\\x11\\x8dJ?A6c?\\xba\\xf5\\\\?\\xfe\\xfb\\xb6>&\\\\k?\\xeel]?\\xbe\\x12\\x86>\\x00B\\x19<\\x90\\xa5\\xb8=\\xee\\xa0\\xc7>\\x10\\x14\\xbc>\\x01{Y?J\\x90)?F\\xfd\\xe3>$\\x97%>nY\\x1c?\\xf1\\xccF?Nn(?\\xb6\\xfek?\\x04\\x96\\n?3\\xffU?sk\\t?\\xc4\\x1dF>+br?\\xcf\\t\\x10?\\xd0 c?\\xa8:\\xc6>\\xd4\\x92-?\\xe45H>7!m?A\\xcf3?\\x00>\\xb9;\\x1b\\xe1u?!#\\x05?_mY?\\x08\\xd2\\x0e>\\xbe\\xea\\xd0>\\xd0\\xa8\\xf3=\\xbew\\x89>\\x1e\\x93\\xe2>QBA?\\xda\\t\\xa8>^>\\xa9>v\\xe8\\x00?\\xd6\\x18L?h\\x8c\\x1a>\\xe8y\\xf0>\\x92\\x93\\x02?z\\xc2\\xef>Q\\xad\\x00?\\x86\\x07\\xcd>\\xe7\\x98x?\\xe2r\\x10?\\xe8\\xba\\xfc>|]\\xee>\\x07\\xdai?5\\x7fS?\\x00\\xd1\\x8d=]\\xa9B?\\x82\\xf5\\x03?R%\\xbf>\\x02r\\xe5>\\xa2\\xd4\\xf1>\\x08\\x96\\xdb>E8%?\\xa2J\\xd7>@ws<0\\xf4\\x0b=\\xc4\\xb3\\x07>\\xc0\\xe0\\x02<\\xd4c\\xbb>\\xc0\\x8aE>\\x1a\\xc8S?\\xbe+\\x86>\\x97\"_?x\\xd2\\x1b?n\\x17\\x9a>\\xc1\"F?\\xdc\\xe5\\x7f>P\\xaa\\x91=B\\xe7\\xa9>.\\x90\\xee>l\\xd1\\xa8>\\x17Ri?6\\xbd\\xe8>3\\x81@?\\xc1\\x8cI?f\\xabe?H\\x17\\xfc>`c[>\\xd0D%?\\xaa\\x14\\xd5>ASx?\\x85$\\x1b?{\\xc9z?\\x06k$?\\xe6Y\\x8e>\\x8d\\x8f\\n?@\\xfb\\xb7=\\xf0\\x1a\\x10?\\x804\\xf4=\\xf4c7>\\x00\\x02H;l:\\xfd>\\xd4M\\xb2>$\\x99E?\\xc417>\\x891 ?:\\xd7\\xf5>\\x08\\xbd\\xa6>\"\\x05Y?os\\x0f?\\xb6\\xb7k?\\x00p\\x18=V0\\x1f?\\xbc\\xbal>\\xb216?\\x10\\xbc\\xc9>?\\xce\\x02?\\x96\\x9d\\xd2>\\xf6\\x94\\x89>z\\xa1\\xb3>\\x85Z^?\\xf0\\xf1r>H\\x1f\\xa9>\\xd8\\x1fF?\\x05\\xc6\\x06?\\x8c7N>V\\xcd\\xb8>\\xc0\\xb6\\x01<IwF?\\xf0/.>\\x7f\\x96g?n\\xfcA?\\xfe4\\xfa>)BW?\\x10\\x94\\xc1>Z\\xbd\\x0c?\\xa7\\xf1G?\\xfdX\\x0b?\\xfe\\xe6\\x18?~1e?-\\x9fR?t\\xd8\\x9c>\\x18\\xdc\\xa1=8\\x08_>K\\xc9H?\\xde[\\xd8>Il\\t?f\\x10Z?,jO?\\xe8\\x8bk>4#%>0y\\xd2> \\xe8\\xf4<h^\\x98=x\\xedF?\\xe2\\xe3O?L\\x18\\r?T\\xe6\\x08?\\x87C@?\\x060\\x15?H*F?\\xe6\\x107?\\x9c\\x8e\\'?\\xf8\\x83\\x18?\\xa4<\\xfd>\\x02\\x8d.?\\xa8\\x92Z?dRL>\\x80\\xfb\\xdb>@\\x07\\xe6=,\\x1b\\x0c>l\\xd5\\xcd>^\\x91Q? ts?\\x07\\x89\\x07?\\x92\\xb0 ?:\\xaaT?\\xf0\\xeb`?\\xcc6\\xf1>\\xad0C?\\x06\\xf2\\x11?\\x96\\xfb\\x9f>\\xe8\\xd5\\xa0>\\x1b@.?Y9\\x16?\\x98\\xb8\\xeb>\\x9e\\xb8\\x9b>P\\xbb\\x80=\\xfc<\\xe1>\\xe9\\xd6;?++;?\\xa2g-?c\\xee8?\\xc4\\x8e<>\\xdcx\\xbb>\\xd8v\\xff=\\xa0\\'\\xc2>\\xe4\\x0f\\xd0>\\xb2\\x85p?\\x8a\\xa4;?\\xca\\x91\\x11?\\x8c\\x0bs?\\xc3\\xec\\x04?\\x00\\x85\\r<\\xbb\\x1dF?\\x1c\\xdc/>\\x88K\\x1b>a\\x9aa?\\x02\\xffB?T\\xc7\\x9e>j\\xf3:?\\xce\\x82\\xe7>nl=?\\xb4\\xa3W>N>\\xe1>\\xb0vW=\\x15\\xb6r?\\xb2{\\xfb>,\\xf0!>\\x08\\x10\\xcb>@0\\xfe>t|\\x86>\\x8ee\\xaa>\\x01\\tR?\\x88bt>\\xe4T#>H\\xb3\\x12?&7\\x18?&f\\x8e>\\xc8B\\x1b?6\\xc4\\xc5>\\xac\\x81\\xbd>,\\x9f\\x1c>\\xac\\xbbv>\\xe8\\xe1m?D\\xb3R?\\x98c\\x95>\\x88\\x07u>\\xb4\\x84e?\\x04\\xb3\\xc0>\\xbc\\xaf+?n\\xf6\\x12?\\x12+\\x10?@\\xb0\\x8b>\\xd8\\x0c\\xaf>\\xfdY\\x1e?\\x16:\\x91>\\xec}3>\\x90\\xcb\\xb0>Z_\\xb9>\\xdd\\xc9{?\\xf1d!?\\xa0?k?x^p>\\xfec\\t?\\xec\\xed\\x19>*\\xf7\\xf1>.X%?\\xbbty?@\\x97\\x08=\\xa0\\x03\\xea<\\xb0\\x03*>(Ey>f\\x85/?\\x04\\x81!>\\x8a\\x0cV?\\xf0\\xc4\\xd7=\\xf4;\\xe1>x\\xf1F>\\x8c\\xf1\\x05?\\xe2`\\xf9>d\\xa1k?\\xf2\\x95\\xcc>s\\xb5U?x\\x8a\\xde>\\x16\\xe1#?Z\\x9f\\\\?|\\x97=?/_J?t\\x07\\xfe>\\x06\\x9e\\xf6>\\x90?\\x97=i\\x06W?\\x00\\x83\\xcc<\\xce\\xb8\\x92>]>%?\\x9eM:?\\xde\\x1c$?]\\x1c\\x7f?\\x80\\x84\\xe9>\\x8f\\xecC?\\xeb\\xdcQ?E\\xb5n?\\x8c[\\x05>D#\\'>\\x16\\xa3\\xba>@\\xb5\\xde<\\xb0&\\xec>\\rHC?X\\xae\\xb7=H3\\x08?\\xab\\'m?b\\xb1E?\\x10\\xb9\\xf6=\\x99\\x16C?\\xebLB?4\\xb4\\x03?\\xba\\xc1\\r?F\\x99\\xce>\\xe2d\\x8f>FS\\xdd>HK\\xee>\\xc0N<>\\x08\\xc6-?x5\\xbe=\\xee\\xde>?[uf?\\x86\\xec\\xd9>H\\x02\\xc0=\\xd8I\\xd6>\\x00\\xc9\\xad>dU\\xd7>`\\x87\\xb8> \\xec\\'?\\xf5\\xec@?~\\x88\\x1d?#\\xeb\\x10?\\xb7\\xc89?\\xa7GL?\\xdf\\xae6?K\\xe5u?n\\xfft?\\\\\\xeeQ>\\nIc?,H\\x9f>^\\x9c\\xf7>\\xc2\\'\\x02?z\\x8aq?\\xe0\\xab\\x8b=P\\xb8\\xdb>\\xfa\\x00=?\\x10\\xb6m?\\xc0\\xdac=P\\xb5m?\\x12\\x00j?\\xc4\\xe5g>r86?\\xd5bu?~.b?\\xad\\xd6h?k\\x1dj?\\xff\\x1dc?\\x96C\\xe9>\\x16\\xe0\\x96>\\x86\\xca\\\\?*\\xe0-?~\\xf4\\xc4>b\\xf0\\x9a> q\\xec<\\xc0\\xdaB=xdz?F~(?\\x18M\\xd3=\\xa3\\t\\x03?\\x10\\x1be?\\xfdlt?jy\\x1c?\\xb8\\x84\\xe1>\\xe2\\xa9t?\\xac\\xafl?,]\\x1e>\\x9a\\x89\\xf4>Vx\\x00?\\xf6\\xafE?~\\x04D?\\x91\\xc02?\\x90>z=L\\xc4\\xf2>\\x82\\xa4<?T\\xcb<>\\x92\\xce\\x9b>\\xa8zE?\\x8dX\\x1e?\\xbc\\xe6\\xd7>TG\\\\?\\x8c\\xf7O>RAB?\\x1aK\\\\?@\\xceB=\\x89\\x03\\x06?(\\xc0V?\\xe5\\x15\\x1f?\\x10M\\x07?P\\xe1p=kUA?\\x0e\\x0b\\xb6>\\xea\\xa7\\xb3>\\x80\\xe6\\xa9>\"\\xcb\\xb8>e\\x04j?\\xb2\\xc4\\x11?\\x10\\xf4\\xe7>p\\xdd*?\\x00\\x8e#<`^\\xe0=&\\xfb(?\\xbe\\xe5e?T\\x9d*>\\x17/\\x16?\\xa3\\x91E?\\xdc\\xb8(>\\xf1\\xcfU?D\\x10\\x08>P\\xdc\\xe7=\\x806\\xa6=I@r?\\x8ba*?\\x1bw\\x1e?\\xe1\\x9cR?`\\xae\\x98<\\xf0\\x93\\x16?\\xe6\\xc6\\xbe>[h\\x12?0(l?\\x9cMj?\\xc1\\x089?\\xdb/N?\\xd2\\xd6u?\\x81\\xfa\\x1f?\\x10\\x8fg>\\xa0n\\xf3<\\x9c\\xeb\\xff>y\\xd0p?\\x8a4u?C\\xb1j?A\\xdc3?7\\xeec?|\"*>r{\\x95>\\xc2\\x9a\\xba>Hl1>8\\x88\\xcb=Nx\\x8f>\\xa0nO?\\xf4\\x8aB>\\xf6\\xd8\\x81>g\\xbd\\x18?\\xed\\x02\\x03?Q+E?\\xf4\\xfco>\\x03\\xb5\\n?a|V?\\xd8\\x1b\\xb7=xx\\xc3=\\xe0S*>\\x0f\\x12f?\\x0c\\x99\\x7f?%2L?\\xb0\\xbf\\xa6>\\xf9\\x9b\\x0c?*\\x05d?\\xf6R\\x02?\\x88*\\x9a>X\\t\\'?Pp\\x99=l\\x1f5>\\x072\\x10?$\\x06\\xf3>G\\xa2.?\\x8c\\x85\\xd2>\\x01]v?V\\x8d\\xd0>\\xe0\\xdc\\x9f=\\xd0A\\x8a>\\xe5$*?\\xba\\x1bK?%)Z?\\xda\\xa3\\xbd>e\\xb48?3\\x08\\r?\\xc0E\\x05=V\\x08W?\\x90\\x03.??\\x1b\\x15?M\\xab\\x01?\\x80\\xac\\x1e=a\\xdcG?\\xf6\\x86p?\\x1e\\xa3\\x10?\\xe01\\x0c?\\xec\\x06 ?\\xc1\\x04A?Q\\xab\\x7f?\\xa3\\x82\\n?\\xaf](?\\xf0\\xf9\\x9c>\\xa0H$=A\\x02\\x18?\\xd2\\xa9\\xd1>\\xf1\\x82}?\\x9c\\x9c\\xaf>t\\xd9W?|\\xa7?>\\xdam\\xc3>>\\xc2\\xa0>\\x15n-?\\xde\\xb7\\xf5>\\x19*N?\\xf0\\x13A>~\\xbd\\x05?n\\x91\\x80>^Z^?\\xe3\\xfb\\x05?\\x1c\\xdb\\'?\\xd3\\xedm?g\\xb6k?\\xb4\\xd7\\x8f>\\xd0g+>\\xa0\\xa0>? \\x91\\x1e>\\xd0\\xcf/?%\\x0b5?\\xb7\\xcc\\x16?H\\xbc\\x84=L+\\\\?\\x00\\xc9\\x8c>\\xb0\\xc4\\x19>qKn?|\\xcb%>H\\x8e\\x94=\\x1c\\xbb\\t?Q\\xd1q?$5Y?\\xc3!P?\\x1c\\xa3,>*R\\x01?\\xede\\x02?\\xf0\\xc6/>\\xcf6\\x1d?\\xf9\\xca7?\\x8dj\\n?*\\x0c\\xc9>\\x08\\xe2N?:\\x02G?\\x12_\\xad>m?p?\\xc3\\xef\\x1e?\\x98\\x074?\\x83yy?\\xb8\\x01\\xac=\\x8a-\\x04?\\nX9?\\xce\\xa0H?lX%?q\\xb4\\x1e?\\x88\\xdc\\xdc>u\\x1be?-\\x7f7?\\xb4\\x92v>\\x0e.\\x9a>`\\xb2\\xfa<\\x10\\xbf\\x89=\\xc2\\xf6\\xc7>\\xa0#$=c\\xcc7?\\xd2\\x82\\x13?\\xdb\\xa2s?\\xbcX\\x1a?f6\\xd4>\\xcan+?\\x06\\x94\\x83>s\\x97\\\\?`P\\x97>h\\xda\\x11?\\x18\\xb3\\xfe>\\xc0O\\xbc>\\x8f&>?\\xcf\\xc7F?\\xb7\\x06\\x1d?\\xb6do?\\x10\\xab\\xbb=\\xce4\\xca>`\\x7fD>\\x9a<\\xc5>\\xecBw?\\xecOM>\\xcc\\xcc\\x17?\\\\\\x9a;>@\\xde\\xd1>\\x84\\xa3h>k\\xee\\x19?\\xa2A\\xfa>\\x80\\xbf\\xa6<t\\x84\\x16?\\x8cz!>l\\xe6\">\\xcc\\xedm?@\\x9c\\xef= \\xfc\\x0f?\\n~A?;\\x19G?\\x12\\x7f\\x91>\\xa0[\\xeb>\\'\\x9f\\x0e?\\x1a\\x8d\\xfe>\\xe0\\x1f\\xed>n\\xbc1?C\\xaa\"?\\x18\\x0c\\xf5>\\x18t\\xe6>\\x88\\xb5\\xd2>\\xd9_\\x1c?\\x18\\xacJ?\\xa8z\\x91=\\xd8\\xca0?\\xe2\\xd0\\xad>\\x94\\x8b\\xe3>\\xff\\xd2\\x03?|v\\x87>\\x10Y\\x8b>$\\x84\\xae>\\x7f\\x88s?\\x00\\xdc6?\\x00\\xf3N<bZ\\xc9>\\x8b5+?\\xd3\\xfc\\x00?V\\xac\\xd2>\\xe8\\xefb?\\xe0a\\xc7>\\x95\\xa6O?\\xba\\xa4\\x83>\\\\\\x9e\\x1a>\\xdf1#?\\xa6\\x12\\x9a>Z\\xcf\\xf5>`\\xd7o>\\x81\\xdcT?2B7?\\x06&C?\\x1er%?5\\x8d*?t\\xf7\\x14>\\xd0>\\x18?\\x88\\xe9\\xc0=\\xa0&\\x81>\\x95\\xa3j?\\xd4\\xb99?\\xca\\xb0D?0X\\x19>ptD=\\xd4\\xdd\\x10?\\xe8\\n3>\\x86\\x8bu?La\\r?\\xe28A?\\xa2\\xc1\\xbb>\\xfao\\x15?\\xe2\\x96w?\\x80\\xc0y<|3.?)R\\x02?t\\x8f\\x17?\\xec\\r\\x1f>\\xdc%\\x17>X\\x1dw>s\\x8e\\x17?T\\xb3G?\\xb8\\x80\\xdd=\\xeeU\\xc3>(\\xd7\\xf6=\\xe9\\xe6W?P\\xa0\\x0e=\\x80\\xb2\\t?\\xd2C\\x8c>\\xe0\\xe2\\x1b>\\xaeT\\x9b>5\\x1fQ?\\xaa\\x86\\xd4>Ws[?r\\xe3)?\\xae\\xab\\xd4>D\\xf8\\xd4>\\xe0=Q=\\xb2\\x9d-?x\\x81\\x08?\\xed\\x06I?\\xc2\\x18\\xe1>\\xd4\\x11\\'>w\\x93s?a\\tF?H\\xed=>P\\xd0\\x97=\\xb6\\xfc\\n?\\xc9f\\t?X\\xcb\\x86>\\xa9)L?\\x16\\xf3a?0\\xae\\xc4=DQ\\x02?\\x98\\xc8\\x84=\\xda\\x9f\\x18?X\\xd4\\xc5=`\\xc0\\xff=\\x84\\x9c\\x04?\\xe0\\xc9\\xc7>\\x14\\xca2?a\\xd0\\x18?p\\xbf\\xa1>\\xaaR\\xd5>\\x14\\xbc4?H\\x96\\xaa>\\xf0\\x19P?\\xa4F\\xed>\\xce\\x19U?\\x05\\xc3v?=e\\'?\\x0b?\\\\?\\xf6`\\xee>\\x9e\\xb1\\xbf>\\xb0\\x11\\x9f>4\\xbbM?\\xa8|\\xbd=\\xd9\\x00@?\\xe8y\\x14>bM\\xad>\\x10\\r\\xc0=\\xa4+u>\\x00`D:J\\x12\\x81>\\x0c\\x86\\xd8><Go>f\\x0e\\\\?0\\xfd9?\\x0c\\x08\\n><\\xe2\\xf8>\\x18\\x8d\\xbd=*\\xc4\\xec>\\xfd\\xe8U?I\\x9b\\x11?\\xd0\\xbf\\x15>\\x9c\\x11 ?\\xc1\\xf3\\x00?\\x9eo\\xa2>\\xb2<\\xf1>D\\x95t>\\x18\\xb4\\xcd>\\xdc\\x7fr?JSp?Xs\\xec=\\xbe\\x9b\\xfb>\\x18\\x92\\x9a=E\\x8d>?Kq\\x11?\\xbb}^?\\x08Xi>\\x16\\x87s?\\xd7\\x93\\x07?\\x80\\xf8\\xd8;(\\\\b?\\x82\\xe2h?\\xb6\\xd1\\x9d>h\\x9a\\x85=z\\xd0J?\\xc1\\x95\\x0c?^\\x1aV?\\xcaA|?\\xda)\\xf0>\\x9aQ\\x90>~z@?D\\xc19?@\\xe5i?\\xe6\\xe2\\xc4>5\\x17I?\\x0c\\x1b\\x95>\\x92t\\xa5>T\\x0b&>\\xe0\\x90\\xb5>\\xa4\\x1e\\xf5>dd\\xce>P\\xa7\\x1d=\\xcfr.?]\\x90L?\\xd6\\xca=?\\xea\\xac>?DL\\x99>\\x0c\\xe1y?ze\\x1c?\\x02\\xbf\\x9c>\\xd8\\xba\\x9c>\\xd3\\xa6\\x04?:\\xc8B?<\\xfev?\\x90*7>\\xfd\\xa1g?\\x86\\xcfh?\\xa2\\x87\\xb0>\\xac\\xbc\\xfd>Z\\x1c\\xa5>\\xdf[M?\\xd0\\xbaa?zaW?=d7? \\xa9j=\\x16P\\xca>\\xb0\\xf6\\t=\\xc0\\xdfF>\\xc1\\x8eD?\\xe4\\x18n?\\xfc\\xba\\x1a?0S\\x8c=\\xa5\\xb30?T\\xc3\\t>3_c?H\\x89\\xab>po\\'=&%t?_\\x1e9?\\xe23\\xc0>\\xa0k\\x80=\\xf0\\xc6r=\\x00\\x17\\xa3;\\x16\\xc7s??a~?\\x81\\xfd\\x7f?\\xe8\\xdb\\xd3=B\\xc0\\x8a>t\\xf7\\xe7>\\x9c\\x11\\xd7>\\x9b\\xb2\\x0c?h\\xa1\\xaf>_\\xb6u?\\xea\\xa1H?\\xb9\\xc5g?\\x96>\\xee>\\\\\\x97N>V/~?H,-?(\\xfc\\x15>x\\xbb\\x11>o\\x9au?\\x88p\\xa4=\\xbe?Q?\\xadS\\x13?\\x1ctZ?\\xe2\\x902?\\xc0\\x08m<\\x12q\\xc1>\\x80?\\x19=.8q?\"*\\xea>0\\x19\\xc4=\\x1b\\xc07?\\xd0\\x87\\xd7>\\xd4n\\xdc>0\\x836=^a\\xe7>l\\xc8\\xce>\\xd0\\xcd\\xda=\\x94\\xfe\\xd9>`\\xe1\\x04?%\\x10)?{\\xb4\\x14?\\x13\\xb4\\x1e?\\xc8\\x97\\xe0>H\\xa5\\x15?\\xa6\\xa5\\xef>8\\xbd\\xaa=\\xf0\\xa7g>\\xf9\\xf1 ?@\\xfe\\x1d?\\xa2\\xafL?DNJ>\\xc6\\'\\xa1>B\\xa9\\xba>e`M?J|\\x1c?S\\r@?\\xa0\\xd8\\xcb>\\xa4\\xd1B?\\xc3hl?\\xfe\"\\xda>x\\xb4\\xd3=\\xf8 C?\\xa8$\\x8d>EED?\\xd3{]?\\xdcE\\xaf>d\\xdcp>\\x00\\x1a\\xbb;>\\x05[?!\\xa4~?\\xb6\\xcbA?\\xdd\\xb5p?\"\\xec\\xde>-c\\x15?4\\x9bG?\\xca\\x87\\xeb>\\xb3\\x9ff?\\xe6\\xc0_?h\\xc1\\xdb=t\\x0f9>\\xc1\\r\\x08?\\xb65\\xc1>\\xf8\\xc1\\xb9=\\xaeA\\x1b?l\\xab\\xd8>pA\\xac=\\xf6\\xc0\\x07?\\xe4\\xc06?\\xa8\\x15:?,U\\x10?t\\t\\x17>\\xdd\\xebw?\\xc1PO?.\\xcf9?PS$>@\\x9bR>\\xc0\\xaed>\\x07RT?\\xc0Eu=\\x84l\\xf0>\\xbbV\\x03?\\xf1\\xc0]?\\xc2@\\x11?${4?\\x88\\xd7\\xe2=2\\x11\\x9d>\\xc8r >\\xf6@F?\\xb0\\xc6\\xfe>B\\xc8N?\\xe2hj?b\\xb3\\x19?\\xa0\\xad\\xc4=\\xd5\\x00\\x11?\\x16Z\\xac>\\x7f8O?\\xec\\xa0!>\\x12_\\xad>>\\x94v?\\x80P\\xbc=\\x80\\xbb/>X\\xc1\\x04>\\xb6\\xaay?\\xd3\\xe7??\\x80\\x8a\\xfa;F$\\x1b?\\x84{=?\\xe0\\x1b\\xd8=p\\xa0\\x0b=X\\xa7\\xa8>\\'\\xa5i?\\xd0\\xac\\xac=\\xac\\x03Z>\\xc6UN?\\xaef\\xde>\\x8d\\x7fo?S\\xf5\\r?W\\xc8z?y\\xe47?\\xd4\\xfa+?\\xf8\\xf6\\xe7=\\x9b\\x14^?\\x86K\\xf1>\\xd1\\xa2;?=6\\x17?\\xe2Q\\x8f>:\\x85\\xf8>\\xe0I\\x90<\\x84\\xf9f>\\xd8\\xb8p?\\\\X$?\\x90\\x9a5?n\\x83\\xea>`U)=h\\xf1\\x9f=\\xbb\\x05*?\\xfe\\x10@?\\xaa\\xc2N?\\x12V\\xbf>v\\xde\\xd4>\\xc0\\x12o?p%@?\\x9ciW?\\x008}=\\x06\\xbb\\x97>\\x08\\xb2`>\\x0f\\x7f;?0\\xaf\\xf4>0\\xb2\\x81>\\x18\\x96\\xf2=\\xea\\xb4\\xe5>\\x95\\xbb\\x07?\\xd6\\xa0\\x14?\\x91\\xf2r?\\xb7(N?\\x84\\xefB>M\\x1c\\x02?\\xdf\\x1f\"?F\\xa5\\xc7>\\x90\\x9a\\x00=>\\xb7\\x15?\\\\\\xad\\xe2>\\x94\\x89q>n\\xc0_?q\\x80a?\\xcd\\xe1/?\\x14\\xfd\\xcd>X\\xa7\\xd4>\\xf6R\\xea>L\\xebk?(\\xa2v>\\xbd\\xd9\\x05?\\xb6\\xda)?\\x80\\x9e;=d\\xad[>\\xdc\\xad\\x00>\\xfc\\xd8\\xa9>x\\xb6h>\\xedZ\\x05?\\x0cyU>\\x9e\\'\\xe5>9Yp?\\xbef\\xaf>\\x08>T?(!`?\\x10\\x06\\xd3=(:\\xae=\\xe0_2>i\\x06y?\\x11\\xedM?x|\\xcc=`\\xc3\\xe0=\\x90\\xb9\\x0c=%\\xaf|?\\xa0\\xef\\xbc<\\x14#S>XS\\xfd>\\x9e\\xcch?\\xb7\\xee,?dS9>\\xe2\\xc3\\xa7>\\xf8\\x80\\xed= Y*?\\x02+\\xf7>Z\\xba\\x19?\\xb7\\xff\\x06?\\xa0\\xb1l=7}\\x03?Dc\\xe0>\\xe6s\\xf6>\\xef-c?\\xb8\\x97\\xfc>:jR?\\x00\\xf6\\x0c;\\x94\\xcdz>\\xd0\\x81\\xf5=\\xf5\\xba ?\\x92_\\xb0>\\xdb\\xfdE?8\\x17\\x80=xw\\xe0>x,\\x83>(|\\xce=\\xec\\xf5S?\\xdfy ?\\xbc\\xc3\\xe8>\\xd6\\x0f{?x\\xa2\\xab=&\\xe3\\xa8>\\xd8vK>\\xc5GI?\\x0c\\xae|?\\xfc\\x06;?\\xacA\\xd4>G\\xf2b?h\\xb2x>\\xbe31?\\x00\\x8a\\xdd=i\\x93B?n\\x9cf?\\x80\\xa6\\xd6<\\x81\\x02H?V\\x87n?\\x82~\\xb5>\\xbc\\xf8r>w\\x98c?\\xa1j>?\\x80\\xe4s>\\xc8\\xb7\\x1a>\\x08F\\xde=\\xac1>?P]Q>\\xc0T7<=\\xea+?\\xe6\\xc8\\x0b?(l\\'>\\xcc\\x17z>\\xd0\\xaa\\xf1= \\xa88>O\\x1es?\\xe0w\\xf1<\\xb3tE?XC\\xb8>\\xad\\xb8d?\\xe6O~?+\\xdd\\x17?,x.>\\xf0\\x0b`?\\xd7Ak?`\\x12E?\\x9a\\n\\x8b>X\\x84\\x8c=\\x90jM=8\\x98\\xd4=\\xe5\\xcfc?\\xa7c6?`\\x00\\x82<\\x95\\x96\\\\?\\x0b\\x0b@?\\xf0j\\x86=C\\x802?\\x90RH>\\xdb\\xc5+?\\x9d\\xa2Q?\\xdfXR?\\xd2\\xdeT?\\x0c\\xcb\\x17?\\xf4\\xea{>\\xd6\\xfe\\xef>\\xe8\\xe8\\x0e? c;?\\x13\\xb1\\x10?c\\xf4r?Y)=?\\xc2\\xd7\\xdb>A\\x84L?\\xa4\\xc4\\xee>\\x08\\xb7\\xa8>Xf\\x16>\\xc2k\\xa2>\\xa0\\xccX=8\\x9c\\x85=\\x8em\\\\?\\xc0\\xf2\\xcf<\\xef\\xd7H?\\x04@\">\\x86\\xbb\\xf1>\\xbcpr>\\xbe\\x84\\xae>\\xe2\\xcc8?0\\x11&> \\xea\\x91=u_%?Dh\\x15>\\xa0\\xb4T?]\\xf6q?\\x9eW\\xd8>\\xc0r\\xff<Zw\\xd9>\\xfaI\\x97>H\\xc5\\xb0>\\xe6\\x97\\xd4>\\xba\\x07\\xf3>\\xa8\\xb7{>\\xce\\xf0x?\\xdf\\x9fH?\\x9e\\xfe\\xdc>\\x82l\\x80>?\\xf1K?\\xd0^\\xad=\\x11QQ?\\x98\\xbey>\\xd6k\\x86>F\\xf9k?\\x8c?\\xf1>\\xeaT7?\\xfcE\\x19>`\\x9e\\xbc<\\x88\\x1f\\x97>Vl\\xe4>\\xe8\\x07z?\\x18\\x87\\xc4=\\x0c\"\\x01?\\xa8,\\x7f>\\xcdgD?\\xe8@\\x1c>\\x90\\x85\\x02>L0\\x1c?P\\xd5`?\\xf8\\n\\xab>\\xbc\\xe8\\x88>\\xce9\\xb7>\\x00t/=\\x9f.\\x14?\\xf6O\\x9e>\\xec\\xd0\\xcb>\\xf4\\xb95>5FA?$\\x0f<?`\\x1c\\xb7<\\xefLt?\\x80\\xd0\\x9d>*o\\xdb>=a@?\\x02\\xc3\\xda>r\\x9c5?\\xd4\\xb1s>\\xb8s\\x05>(\\xed\\xd4>\\xcc3k>f3n?\\xfc\\r,?\\x14+X?\\xd0y\\xa7=\\xcd!\\x0f?\\x8a\\x0e\\xc9>\\xaf\\xc0)?\\x88Ji?V\\x87\\x8b>\\xf24\\x03?\\xcdgv?thr?,\\x8b\\xfa>,*\\x19>\\x147\\xb3>pn`>\\xc4\\xb9@>\\xfc\\xaeC>\\xdd\\xf1O?\\xf8\\xffH?Jj\\xeb>P\\xc5\\xbd=\\xa0\\x16\\x9b=p\\xa0[?F\\xe0\\xea>4\\xd5\\x05?\\xb0\\x9a\\xe7>\\x9e\\xdfg?\\xd9\\xec\\x0c?\\xe2~\\x99>-\"/?\\x9cf\\x83>4\\x82)?\\xe0\\x17E>\\x00V\\x7f;\\xdd\\xfd2?\\xdc\\x97\\x81>&\\x1d\\x82>\\x8f\"o?$W??\\xe8\\x94\\xa4>p\\xf1\\x96>\\xe4\\xab\\x1b?jb\\xd7>\\x80h\\t>\\xeeN@?pym>x\\xc5\\xbd>B#\\x82>\\xd1\\x943?\\xfb\\xddO?\\x0f\\xaf\\x05?\\x00\\x9d\\xf7=c\\xdeN?\\xab\\xdaS?\\xba\\x97w?\\xbb@$?g+p?\\xcc\\xbe\\x02?\\xd0N\\'>Ks~?q\\xf2<?\\xa0Q\\xf5>\\xc0\\xec\\x04?)\\xa1\\r?\\x16\\xc4}?S\\xee]?\\xf9H\\x11?0\\xb5s?6\\xf8\\\\?\\x056K?\\x00\\xb6\\x0c>\\x04v\\xdf>\\x8c\\xb3@?%\\r*?\\x1d\\xa4\\x05?G\\xab ?\\x1c|y?\\xb8\\x1b\\x1b?x3\\x81=\\x1c!\\x00>\\x9d\\x1dm?\\xa4\\xf7U>\\x00\\xde\\x1c=\\\\\\xfeG>d\\xfc^?` \\xf5<T\\'\\xfd>P\\'\\x0c?\\x04\\xc8`?\\x88\\x01\\x90=\\xb1k\\n?\\xc0T\\r<\\xa6\\xe9\\x07?0$\\xfe=\\x93\\x90??N\\x97\\xa6>`3\\xa2<\\xe0\\x00\\xee>\\xb8=\\xa8=\\x88\\xa1\\xb6>r\\xack?S\\x95g?\\xec\\xd0\\xb7>\\xa8K\\x89>@\\xa4\\xd0=\\xd0\\xf0\\x02?\\xab\\x14\\x16?\\x08\\xc1\\xc3=\\x00m\\x80;\\xbb\\xdd{?\\xe4 \\xe9>\\xc4\\x8d\\xe5>\\x18].?\\x84\\x02T?\\xe4\\xe8p?2\\x1d\\xf1>\\xe8Z\\xfe>2V\\xc4>\\xa4\\xaf\\xb5>\\x15X=?\\x04dV>\\xc0\\x02\\xf6=\\xfe$\\xe5>H\\x0b\\xc0=e\\x9eU?\\x0c\\th>\\x98\\xa4\\x1e?c%m?\\xea>N?C$9?Y\\x8f!?\\xef\\xc5\\x1b?@?\\x0c?\\x98\\xb5\\xb6=\\x10\\x8eH=\\xce%??H\\xa8~>\\x90\\xc6\\x9f>\\xe8 i>\\x1c\\x06\\xed>\\xfe\\x96\\x9d>QNY?\\xb4`\\x94>h\\xe2c>\\xf4@;?\\xc0\\xaa#<\\x8e\\xdd\\xd7>\\x1d%\\x1e?Q\\x11*?\\xa6\\x93\\xd2>\\xacu\\x94>\\xb85y>\\xd0g=>hit>\\xc8:u?\\xe0\\xfe5>+\\xc2!?!\\'n?di\\x82>\\xe5\\x95\\x13?\\xd8\\x9d\\xc7>\\xe45\\x9b>\\xf5{R?`M}>\\xe4\\\\#?\\xacj\\x04>\\xd1\\x90/?\\xd4\\xfb<?\\x88=p>\\x02\\xe5m?8\\x1ed>\\x92\\xb7^?\\xc7\\xc7y?e|\\x7f?\\xee\\x9e\\xca>\\xc4k_?\\x0eh\\x19?ptA>\\x00,N;#/\"?`|\\xa8>bqJ?\\x00\\xda!<\\x1eV\\xeb>*\\xfd\\x93>\\x7f\\x1e\\x1c? \\x9e\\xe9=\\x98\\x95\\xfb>\\x88\\xab\\x81>\\x9c%i>\\x90\\x0ch=\\x12\\x88\\xad>\\x0bl+?\\x91\\x18}?\\xdd\\x92\\'?U\\xa0O?\\xb3\\x92p?\\xba\\xd1\\xb3>nx\\x94>\\xda\\xb4\\xbb>\\x7fQj?\\xd4\\xd0\\'>|Of?\\x90\\x9b\\xa7>\\x80t!=HgE> \\xfdR>\\xd4\\x8d\\xfd>\\xc0\\xd5\\x1c<\\xfa\\xf7[?\\xe4-H>\\xb9yG?\\xca\\xb0P?_xJ?<\\xe7\\xaa>\\x1a\\xdd3?\\xe4\\xc6\\xb8>( \\xf9=\\xbc\\x1b\\xfb>\\xec\\x8c\\xb6>\\x80b_=\\xdc\\\\\\xaf>\\xb2\\xe3\\x18?\\x94\\x9e}>\\x01\\xd5^?\\xc0\\xb9,<\\xdcj\\xf4>\\xac\\x18\\xcd>\\x88r\\xdb>\\xd0\\xeaR=:c.?\\xcau\\x07?\\xf8\\xf7\\x05?\\xb1y\\x0c?:\\xa2X?\\x91\\xe8]?t\\xdd\\xda>\\x99\\x98\\n?l\\xf3\\xe4>\\x06\\x84\\xec>\\x9a\\xb7}?\\x90\\x94t=\\x8d^r?\\xc6\\xe0\\xc9>,Sl>B\\xd22?`tt=\\x96\\x10!?^a\\xbc>\\x00\\xbf\\x98=\\xa1>|?\\xc8\\x95\\xc4=*\\xa8\\xa2>J\\xe6\\x03?\\x8c3O>l\\xa7\\x9d>N\\xadf?\\x12\"\\xff>\\xbd\\xbf\\\\?\\xc0\\x9dV>\\xd0\\x1f\\x03?\\x90\\xaaE>\\xa4\\xbc\\xb8>\\x80\\x89)=Q}v?\\xc0\\x06$>^\\xc3\\x1f?D\\xa7F>^W\\x0b?\\xaan\\x97>\\x14Qp?P\\xac\\x8f>\\x1a\\xcf;?\\xe0\\r\\x99=4\\xc4@?\\xfbmB?\\x10z\\x97=\\xa6\\xd3B?\\x82\\xaa\\xfc>\\xe8\\x944>\\xfe\\x84\\xd7>(\\xe5@>\\x801\\xbe=,)5>\\x12\\xe5\\xf6>\\xa0\\xb7\\xb5<n;3?\\x00\\xf9{>\\xd2\\xcbG?>m\\xea>\\r\\x9am?Rq\\x90>(z\\xea>\\x12\\xfd\\xce>4A\\xe8>\\xfc\\x12Q>D\\x11#?\\x10\\x88\\xe9>?h\\x13?\\xbe\\xba\\xce>\\xb4CX?\\x96`2?\\xb8\\xff;>\\xf2U\\x03?\\x10(\\x99>\\xb3\\xefp?\\xbe0\\xde>\\xc2?F?\\x90\\x11F>vDp?\"\\xf7\\xb3>\\xe8g\\xa7=T\\xe4y>\\xd4\\xe6\\r>\\xa4\\x0b\\xac>\\x1b\\xed(?\\x18\\xc6B>t/\\xe5>S\\xaf.?\\x9cQY?\\x00l1>\\xef\\x0fz?\\x8c\\xe1\\xf9>[\\xa5D?\\x8bM[?\\x82dd?\\x1d!%?\\xb6\\xdc\\xe9>t\\xd5#?X\\xb1\\xab>)\\xa9+?\\xca\\xab\\x0e?\\x1c\\xee\"?\\xbcd0>`\\x04O>f\\xbaD?\\xc0\\xaa\\xd5= \\xe1\\xf0=4\\xc2\\x8a>\\xb1\\xd9#?\\x98\\xa1*?\\x00\\x03\\x18>\\xb4Hq>x\\xea\\xd5=\\xb0{\\xfe=\\x98\\x10\\xcc=\\xc6\\r\\xb2> \\n\\xd6>\\xc4\\x94\\x0c?0\\x1aQ?\\xe6\\x84\\x06?Xj\\xf9>\\x02\\x9d\\xcb>\\xc4\\x14\\x96>\\xe0\\x8f\\x1a=\\x00Ze>\\x8c\\x80,?v\\x94y?\\xccIu>\\x0f\\x90E?\\x92R<?\\xd0\\x1d\\x86=0QY?\\xc0-J?\\x0b\\xe4\\x0f?\\xd4\\xccM?\\xd6\\x8c\\xbf>\\xdch\\x83>\\xe0z\\x81<pw*=\\x925\\xbc>\\xaf\\xf9)?P\\xc8*=\\n\\x17 ?s=\\x1f?\\xe8\\x17\\x15?\\x00\\x86\\xa1;\\x90<\\xe3>\\xac\\xf2\\xfb>\\x85wv?0\\xdb\\x9e>\\x0c\\xdf\\t?\\xae\\xf5\\xf0>\\xec1D?\\xc0\\xdai=R\\xefN?Wb\\n?8[5?b+\\xf6>pFO=\\'\\xa6\\x7f?\\xf9\\xe41?\\x92+\\x17?V\\xff\\x8b>\\xf4\\x1a\\xae>Z\\x9aY?\\xa8dd?4\\xc60>\\xd8<\\xe5=\\x9fX0?gZe?\\x90\\xafT?0P\\xf8>\\x81`j?H\\xce#?\\x04\\xa6\\xc5>p\\x85\\xc3>D\\xf6\\xc5>B\\xa97?\\xf0\\xf8\\x8b=+{\\x12?\\x17\\x88\\x17?\\xf4\\xe1\\x02>D\\xde{?\\x10u8>\\x00\\xe6D<\\xfa\\x8a\\xce>0\\x8b~=\\\\\\x009>\\x94n\\xcd>>\\xd8\\x0c?\\xa8\\x88B> V\\xa0>.Y=?p\\xb0&=9\\xca\\'?\\xe2\\xa9I?\\xf8\\xb6\\xb9=2\\x0cD?\\xbc\\xd3\\x9a>\\xf4P:?\\xd3\\x0c\\\\?T,\\xa7>\\xda\\xdew?\\xfc\\xe8|>\\xf6\\xaaZ?\\x18S\\xfd=@\\x14o>\\xf2\\xa9\\xc0>\\x14_5><\\xa2k?\\x8c\\x10\\xe7>t=|>\\xc0B\\x1f>^uG?\\xbb\\x11x?\\xa5RK?\\xc4\\xa7/?(\\x14\\xe7=f\\x8d\\xaf>\\xbeb\\x93>\\xd6\\xe9\\'?@\\xdd\\x12<\\x10\\xda\\xee>2\\xa7c?\\xe4.\\x14>\\x92\\xba\\xc9>\\x00S^=\\xb8#\\x19>\\xe0\\xd7\\xf7=\\xdf\\xb0n?\\n\\xdd\\xb7>~\\x9c\\xd9>*_(?p\\xf0\\x14>4\\xcc0?\\x14\\xd7l>\\xc8\\xea\\xff>\\x9c\\xecG?\\xfek\\x03?8\\xd0\\x9c>\\\\\\x1f\\xd2>\\x90\\xf5:?0m+?L\\xf3O?\\x00\\xba\\xe6;\\x80\\x19\\xcd=H\\x04Q>\\\\\\xbbz?\\xa6\\x91\\x0b?r)\\xce>\\xd67\\x86>\\xab\\xb5r?U\\xbbl?\\xea\\xa7s?\\x94/E? !\\xdf=\\xd8hD>\\xa0\\xb8!=*J\\x17?\\xad@J?9\\xff_?8\\xee\\xe9=\\xc9\\x91\\'?\\xb4s\\x8b>/\\xaaF?\\xd4\\x1a\\xa4>\\x91\\x89x?\\xce\\xe7A?r@a?h\\xfd\\x88>\\x00G\\xf5;\\xee\\x1f\\xa5>\\'\\x894?\\x80\\xd5\\x02<\\xc8HQ?\\x0e\\x83\\xec>(\\x1b\\xc1>\\xe0\\x07\\x17>\\xa0L\\xd2=w{Z?\\xbbAq?\\x159Y?\\xc1\\x17,?B\\x13\\xd6>\\xbc\\x89t>\\xe0\\x81\\xc9<\\xd4\\x7f\\xda>\\x00;\\xdf>\\xe0vt=\\x0e\\xd3!?c\\x9d0?\\x00G`<\\xba\\xb5\\xb1>B\\x91\\n?\\x00\\xd7<= \\x1b\\xa2=:w\\xd2>N\\xdd\\xaf>^v\\r?\\xac\\x04\\r?\\xe0\\xe9b>l\\xeeR?\\xed\\x0bv? \\x9f\\xd2=\\xa4xa?))Y?X\\x84\\xc1>\\x9f\\x03O?\\x98\\x8fH?&\\xe0\\xe4>2\\xf7f?\\x9d\\xce\\x0b?^\\xf0=?P|A?p\\x02\\x94=\\xf4\\xf9.>\\xe4\\x040>6\\xd7\\x00?V\\xf7\\x9e>\\xf0\\x06j=\\xdc\\x03I?\\t]\\x7f?\\x8e\\'m?\\xc0\\xfcK<\\\\)\\x80>pF:>\\xb2p\\xb0>Be0?!t3?8\\x8eg?\\xd2\\t\\xd9>\\xc0m\\xb7=XR\\x07>U\\xcfc?\\x17\\x85C?\\xee\\xfbt?\\xa46\\xcf>0\\xed\\xba=\\x9f\\xf5X?\\x98\\xd9\\xf3>\\xf0l\\xf2>\\xb4\\xe1\\xb3>p1\\xc8>\\x00L\\x06=@\\xc5$<\\x9a\\x15\\x1b?eQt?.\\x9d\\\\?H-D?\\xf9@\\x1a?\\xa0\\xb2i?\\x90\\x1d\\xa1>\\xb1\\xc6\\x0b?Pm\\x0f>f\\x9e\\x8b>\\xcaN\\xbf>\\\\\\xd0\\x12>\\xbc\\x13\\x96>\\xd0\\xe2\\xad=\\xecT<>\\t;L?\\xa6k\\xff>8\\\\}?\\x86\\xd6\\x1d?P\\xe2\\xf9=6.P?\\xc1S<?d\\xb8+>\\xb7\\xf5\\x16?\\x00\\xcd\\xff>/\\n\\x18?\\xf7\\xd1Q?\\xde\\x91*?h\\x12{>\\xd4\\xeb\\xb8>4jF?\\xd4Z\\x1a>\\x96\\xc6\\xbf>h\\x84\\xcc=H\"\\xe4>K\\x16V?<O\\xfe>\\x00\\xdd\\xe6>\\xe6\\xa1R?\\xado\\x12?\\xe0\\x84\\xc8>a\\x82}?\\xe05\\x8c>\";\\xe2>\\xecWy>\\x08\\x8fB?\\x00\\xc4\\x1f=\\x06\\xee\\xca>\\xd8\\xcb\\xbc=f\\'\\xc8>+=\\x19?\\x80Y\\x84>\\x01\\'\\x19?\\x8a\\xf9\\xd9>$\\x98{>p~\\xe1=`\\xf8\\xff<\\x00\\xc95<\\x05\\xcbI?\\xe2\\xe5\\xf9>\\x90\\x86\\xd5=\\x96\\xd7e? \\xd8\\\\>\\x95tC?6\\xf1H?\\xe8-\\n?@\\xbb\\x06<81\\n?\\xb0\\x17 ?\\xd5\\xa5(?\\x08\\x7fe>\\x1e)\\x8d>`\\x9a\\x01=\\x0e\\x03\\xca>\\xdf\\\\\\x0f?\\x8a\\xec\\xc3>\\xf8u\\xb6=\\xdc\\x0b\\x0e?\\xd2\\xf5\\x1c?R\\xd0\\xcc>D\\xdc-?\\xa2\\x97\\xd5>\\xa8\\xe8\\xf5=l\\x98Z>\\xdc\\x99 ?\\xd3\\xf8\\x18?Ph\\xc3>\\x8a\\x81\\xa4>\\xf4\\xd8\\x0b?=\\x16\\x0b?1\\x1c,?r\\x11I?\\xcc\\x97\\x1e>n\\xa4\\x84>\\x89\\x98\\x06?\\xd9\\xb2!? \\x83\\xbc=\\x16>}?\\x84Q\\xbc>j\\xe2\\xb0>z\\x14\\xe9> \\xbe\\xbd>\\xdc\\x93)?\\x7f\\xb6;?\\x84b\\x1f?\\\\\\xe56>*;\\xb1>\\x1c%\\xc0>b\\x94[?\\x08\\x05|?\\xc0\\xe3#=\\x1ez8?\\x08\\xb5\\'>\\xb0\\x8ez>z\\x15U?\\x1a\\xe4\\xc6><bI>)\\xef\\x18?\\xd4_\\xa7>tDk>x\\xc9\"?\\xd5\\xc9\\x13?b\\xe8\\xdb>\\x86V&?\\xc4VY>\\x83K\\x00?\\xc6\\x9b\\xca> ]\\x16?\\xe0V^=\\x9e\\xe3\\x13?\\xb6\\x04}?\\xd0\\x92C?\\xbe\\\\5?\\xa6_\\xf1>*\\xedt? 5\\xd9<\\xabHS?\\xcf\\x88\\x10?\\x90D\\x93>\\x10\\xf4V=cS\\x15?<7c>\\xf9\\xa8\\x1d?U\\x86a?\\xdcE\\x0b>\\x9c\"9?\\xf6k\\x07?\\xd4\\x06~>\\x0cZ[?y\\xbdy?\\xe8\\xd6\\xab>\\x02w\\x00?\\x966\\xe9>\\xf2{\\x7f?\\'\\xc1{?\\x88_\\xb6>\\xff\\x97\\x05?b^=?tp;?\\x05\\xc54?1\\xbdK?\\x00\\x92\\xd5;\\x1c\\xa6\\'>\\xb9\\x04\\x19?\\x90\\xd2V=\\x8a\\xd0h?\\x10y\\x10?\\xc9\\xee\\x07?\\x98\\xb2\\x84=\\x0c\\xc9\\x1a>\\xa0\\x96M?\\xd7\\xd3B?\\x98>z>\\x04\\xfb9>\\xe14\\x1a?\\xf8<\\xc8>\\x15gD?\\x12\\xc8\\x81>8%S>f*\\xc8>\\xd6\\xeff?\\x04\\x10k?\\xb5^O?\\x90\\xcc\\xf4>\\x9c6 ?p\\xb7\\x07?RD\\x1c?\\x9a\\x8bj?\\xa8\\x98\\x9a>\\xf0\\x89G?:,N?\\xa4<\\x83>\\\\\\xbb\\x1e>l\\xa4$><\\xf7->\\xc3\\\\x?$\\xf2o>\\xda$\\x18?\\x08\\t\\x13>1,b?\\x1a\\xa9\\xf9>\\x0eMa?Q\\xa5\\x19?\\xccX\\xc4>\\xef&\\\\?VQt?\\x00\\xdf\\xe5;\\xcbL\\x1a?\\x82IS?\\xb0\\x02\\xb2>0\\xb0Y?\\x00\\x0f\\xe9=H\\x95\\t?\\xa4a\\x14>\\xe7\\x82\\x11?\\x980\\xf6>?\\xdd6?\\x0e\\xb6\\xeb>d\\xde\\x10>\\x02\\xedu?\\xe8\\x9c\\xc9>\\x04\\xbd^>\\x0e\\x8a\\x8e>{\\x96*?\\xd1\\x82G?\\xd0\\xdb\\xf5= O\\x1b=P\\xde\\x92=3_\\x0f?\\x10\\x1aR?\\x9a\\xcf*?NW\\xdb>\\xc0\\x80y>\\xe0\\xdfE=b\\xa5D?\\xe41s>\\xc0\\xed\\xb5>\\xc0\\x9d<< \\xeb+=\\xd8[\\xe6=\\x00T\\xfc<\\xbe\\xe0Q?{@o?p\\xd7\\xd6>\\x00\\xe0:=7\\xbb\\x13?B\\xfc\\x8f>\\x8b\\xe9\\x0b?\\xc4\\xb8\\xd0>\\x0e\\x06\\xb1>2\\x11:?x_/?s\\x12r?3.m?\\xe2\\x12\\x17?b\\x00W?\\x97\\x0e\\x17?\\x81\\x9b]?B\\x81\\x85>\\xae\\xbd\\xee>\\xe2\\x02Z?\\xd8\\x81\\xc7=2\\x8b\\xaa>\\'UP?ps\\x05>\\xab\\xa8A?\\xf2\\xe6-?\\xe0\\xe7\\x0f=\\xac\\x96\\x08> F*>;\\xa4\\x0c?\\x88~\\x1c?G\\xb60?\\xe8\\xdc\\x1c>\\xd6$/?d\\xf3s?\\xd4}\\x0e>n\\xc6\\xdf>\\xdb\\x8cy?\\xe8\\x08\\xfb>(uY?8\\xb3\\xe3>\\xa0\\xd1\\xe0=\\x00}7=@6h<\\x10\\xdf|>g\\x1b??\\x13=U?\\x00():\\xc6e\\xf0>{z\\x0f?rM\\xf8>d\\n^>\\xae\\xf6\\x06?@X0?@\\xb9\\xa4=\\xab\\x94=?\\x8fg2?`\\xfb\\x90=\\xb0\\xad\\x03>\\xe4\\x9f\\x82>4\\x07\\x8f>\\x9a$r?\\xe9\\xde\"?\\xad\\xc4d?\\xd4\\x9e\\x10?\\xfc!\\xc8>\\xc3\\x13R?%\\xf4M?H\\x000>\\x80\\x17J?\\x90\\xe7H?t6\\xdf>\\xe0\\xf2\\x06=\\x04-\\xa4>r\\x7fi?G\\x00J?\\xba\\x84\\xd3>\\xc1\\xb8t?1\\xff`?\\x14\\xb8\\x8f>\\xdf\\xd8U?`I\\t=\\xd7Br?Z\\xf5D?\\x95l>?\\x1e\\xb6\\xee>\\xd0\\xe3\\xd0>\\xa5\\xc2\\x07?\\x81\\xda\\x10?~\\xa2\\x1a?:\\x9c\\xe4>\\x02+\\x02?\\xb8\\xbd\\xf6>8\\xfb\\x01?\\xa2.\\xef>U\\xa8\\x0c?C~<?\\x91Jr?\\xc2`9?\\xaf\\x8e4?\\xed\\x05\\x04?p\\xd6,=\\xcf\\x93j?\\x804\\xfe<\\x06aT?\\xaa\\xffO?\\x94~3?,\\xdee>\\x98#\\xec>H\\xcd;?\\x88\\xa9C?\"\\xe1>?\\x0c\\nv?\\xd0=\\xd9=XB\\x07?\\xc0\\xdfy<\\x90\\xceb>\\r^`?\\x9e=\\x88>\\x8c\\xc0\\xe7>\\xc8\\xd6\\x9a=^\\xf9\\xf9>\\xf0\\xbb\\x89=\\xa4\\xb3p?\\x00\\x86\\x06;W\\x90\\x01?\\xbf\\x15s?zJ\\xec>\\xfdd\\x1a?\\xa0\\xf8a?=\\xdaW?\\x0et\\x07?*\\x1c\\x8a>\\xc8\\xc5\\xa2>\\xf5\\x10\"?dN\\x7f?x\\xa5\\xab>V{\\xa5>P\\xa7\\xc6=J\\xfc\\xd0>\\xc8\\xba\\xf1>\\x14\\xad\\xd7>\\xaa\\xfbm?\\xe4\\xffG?\\x968\\xec>4\\xc1\\xbd>\\xd0\\x17\\xde>\\x08\\xfa<>i\\x7fr?^\\xb13?\\xf9\\xdb,?\\x0e7S?\\xc6=\\x06?z\\x9e\\x84>@\\xa3\\x10<64\\x9a>OBZ?\\x10\\xcf:?\\x00\\x80\\xf27q\\x1f*?\\xd5\\xdc3?&\\x87\\x13?C\\x18S?\\x00\\xa5t<\\xf23??\\xda|\\xc3>\\x9e\\xed??d\\xa51?\\xf9\\x8fp?\\xd9\\x00Y?nG\\xbf>\\x801?>\\xc6\\xac6?`\\x08b>\\x88\\x86`>\\x84PZ?M\\xed\\t?\\xc3\\x0b\\x0c?\\x85jD?p;\\xf6=\\xf5qN?\\xc4r&>\\xab\\xa6\\r?\\\\\\xf5\\x01>\\x8f\\xbf\\'?\\xd8Y#>\\xd3\\xac4?lU\\xf6>\\xb8\\x9b-?d\\x0e\\x1c>Kt\\x12?\\x9b\\x0b\\x01?V\\x0el?,\\xc2\\x8f>\\xc0\\\\\"?N<\\xdc>\\xe4\\xe0\\x1d?v\\x13\\xfe>\\x96\\xe3:?\\x03}^?\\xc08\\xa2>i\\xe94?\\xea\\xa0@?L\\x8e+>\\xbd\\xbf(?|\\xf9\\x88>\\xe4\\xa1\\xcd>eqK?\\x9f.(?\\xa8\\xdfq>\\xf7\\xca;?\\xea\\rL?`\\xea\\xb7=\\xc8p\\xba>\\x00I:?\\xa0\\xccn=S\\x1d5?\\x9bGx?\\xf0\\x9aO=x\\xaa\\xd3=\\x14U\\'?\\xe0\\x813>V\\xa5o?\\x8d*\\x0b?\\x90e\\xa8=\\x06\\xde\\xf8>z\\x9aT? \\xda\\xec<\\x9d\\x9aY?\\xc1S*?\\r\\x1c\\x10?\\xc4m|?\\xa8E\\x84=\\xb7\\x98k?#\\x00h?P\\xd9\\xfe>\\xdd\\x9e\\x14?z\\x8c\\xaf>\\xf8u\\xd9=\\x0c\\x9e\\xa0>\\x80\\x15\\xc9=\\xf4\\xf2(> P>=\\xd0OT>>\\xe7\\xf5>\\x18\\xba\\xfa=\\xc8\\xe3\\xd6>mJu?\\x90L\\x05>\\xf0\\xdc\\xf0>4/g>RI\\x0b?}\\xfb\\x18?\\x0e\\xee1?\\xf6\\xeb\\xcc>Fj\\x90>@\\x93O=vj=?pgZ>L\\xe7/>\\xa8t\\x98=7~_?\\xdc\\x8e\\'?`\\x0ft=\\\\\\x94)?\\x88\\x8d\\xe6=\\xc3\\xda\\x18?\\x8b\\x99-?\\xa7\\x1c\\x19?o\\xefR?r\\xae!?\\xe6\\x1d\\xe9>s\\xfbx?\\xf4z\\x1b?\\x1c\\xc0\\xda>\\xc5\\x7fy?+\\xect?^2\\x9f>\\x82\\n\\x02?\\xc3\\t\\x07?\\x9f\\xbd2?3\\x924?T\\x01\\xa8>\\xf7\\xb9H?\\xa0\\xcbT=\\x171D?\\xdc\\xdb\\xae>8\\x80\\x1d?\\xa4@\\xb3>\\xe0\\x1a\\xbe<\\x86c\\xab>T#Y?\\xc0\\xff\\x84<\\xacQ\\x04>\\x04\\xd7\\x81>\\xc0UI<\\x0eJ\\x9b><Gf?2\\x98\\xc2>\\x18>\\xcc>\\xe8h\\xea=\\xa08\\xbe>\\x04\\x991>N\\x80\\xf2>.\\xc9\\xed>\\xb2\\xa7_?\\x1c\\xfdV?@t\\xb1=\\xe2\\xb4\\xec>\\x92{r?\\xa2S/?\\xba\\xe3{?\\x97\\xde\\x07?\\xc8\\xd8\\x82>\\xf2\\xe7\\x1c?`\\x00\\xe7>\\'\\x9d\\x7f?$\\xfd\\x87>\\xde\\x8b6?\\x98\\xd3\\x95>~W\\x9f>\\x14\\xed\\xf9>*\\xbel?L\\x9fd>\\xac\\xed1?{N ?\\xd4\\xb72?b\\x95\\x00?\\xce.\\x14?\\xd9k\\x01?\\x9e*\\x9a>\\x0c\\\\\\x17>\\xda\\x98O?\\xc2\\xb9d?R\\x17\\xad>\\x88!_>\\nN.?\\x00\\xe3N;\\xf7\\xcc[?\\x97;9?R\\x90[?\\x86,\\xa5>0F\\x00?L5)>\\x8er\\x11?U\\x1bx?\\xcc\\xb2g>\\xb0\\xcc\\xef=lG\\x87>0\\x88\\xd3>\\x18fa>\\xb9@N?\\xd6bk?x\\xc7S>\\xdb\\xb2d?\\x08\\x9c\\xcf=\\xf3\\xefu?m\\xbcm?=\\xbd\\'?T]:>\\x98\\xd9r>\\xff}w?\\xa8\\x16\\xb8=\\x04\\xa3(?\\xb8G\\xa7>\\xb6\\xebW?\\xdb\\xc3\\x11?G\\xcb\\x12?\\xb3\\x9cu?\\xdc\\xfc/?\\xca\\xd8\\x02? \\xc1\\xe6>8\\xber?L\\xa2D>\\x8d\\rs?\\x02\\xf4+?\\x07\\xbcV?\\xeeE\\xf9>\\xef\\xcfL?\\xfc\\x99\\x0b?\\x1c\\xb41>\\x18~\\x06>T\\x01)>\\xe8\\xb0y>T\\xff\\x8e>\\xca\\x08L?\\xfc\\x1d ?\\x80\\x9a\\x98=gC\\t?\\x8c m?\\x00\\xb3Q;\\x95#@?P\\xd9\\xd0=\\xa0\\x11]?\\xc0a)<\\xac\\xc4\\x0b>i\\xe9x?\\x00\\x03\\xa0>\\xadm\\x01?\\xa8V:>\\xbf\\xc5A?AA\\x0b?\\xe1\\x99m?\\xb0\\x93n=\\xd8\\xffb?B\\x03\\xe6>\\xf6a\\xa3>jc\"?\\xf0R\\x99=\\xa3\\xf7G?\\xf3-\\x18?\\xa8\\\\\\x88=\\xc0P\\xbe>p\\x14\\xf8=\\xb0\\xe9Y?\\xeeWa?PA\\xc3=\\xd3C\\x0c?p\\x9fm>\\xd1\\x1bm?\\xfe^g?8hS?\\xbd\\xb3s?\\xb41\\x0f>g@L?\\x14%)?{\\xb0s?\\x81.$?7\\xa4o?\\xdc\\xaa\\x0b?v\\xb6\\xa3>0\\x82\\x9a>\\xc39\\x0e??\\x8bs?\\xbe\\x02\\x92>\\x0c\\xbf|?\\xf0\\xef}?\\xb8_2?YW\"?^q3?\\xbe\\x1a\\xf6>\\x14\\x83\\xd5>\\n\\x80&?\\xc0\\xed&?y\\x86x?R\\x05\\xf3>\\xd6pw?^e\\x18?\\x10\\x1d\\r>rP\\xcd>(N\\xbe>\\xcbw\\x0c?j\\xaaC?\\xe8+\\x05?\\x82(\\x02?\\xc1v\\x16?\\t\\xacp?\\x10=(>&j\\x03?\\xc0\\x86\\x0f=\\xc0\\xa5$<\\\\vw?\\xe0\\xe5\\xca>\\xc3\\xee{?\\x80\\x89\\x06?\\nO\\xbe>\\xaf\\x19\\x1f?\\xa0\\x1e\\xe4>\\x10\\x14\\x98=ag\\x01?}\\xea??v7`?d\\xed\\x10?Q\\xa1??\\xe3\\xa38?\\x9at\\x92>\\xba\\xf2\\x06?\\xce\\xa9p?\\x0c\\xe02?\\x9c\\xb3k?\\xa0r\\x11>\\xfdq8?\\xf2$\\xc4>\\x0c\\xbe\\x95>\\x01\\xd6\\x0c?\\\\r\\xf5>O\\x8f;?\\xdc4\\x02>\\r\\xff\\x16?\\xcc\\x0e\\x8a>L<j?\\xcf\\xbc\\n?$^\\xdd>I\\x85P?\\xe4[\\x01?B\\x8f\\xc3>\\x94^\\xb6>\\xdc\\xb1k>(]:?\\xdfEp?\\xf6\\x80o?\\xd8\\x19\\xf3=\\xb0\\x9e\\xa2=\\n\\xb74?\\xe9Y\\x03?\\x11\\xa85?\\x00\\x9e\\x8c;\\xcc\\x878?\\xbb\\x98E?\\xda;\\x1c?\\x08\\xc1\\xbe> \\x1aB>\\xa6m7?n\\xe3\\x14?T\\x8b.?6\\xe1\\x82>\\xe4\\xfaU>\\xd9mI?0\\x90u?k\\xd8#?4\\x87\\xa3>\\xb0\\x97\\xb0=\\xf0\\xdb\\x0b>Fen?\\xf5\\'X?\\xe0\\xbb\\xe0<p~\\x83=\\x80\\x9e)>\\x96\\xf5i?n\\x9fe?\\xd8\\x9cp?r\\xe6\\x82>\\x02\\x13]?\\x16A\\x9d>V\\x9cd?h\\x9f\\x08?d\\x99\\x19?}\\xbbv?\\xbc\\xe3{?\\x8a\\x8dO?\\x92\\x83\\xce>\\xf8r\\xed>\\xb4\\xddA?\\xdd\\x8cy?y\\xaaS?T\\x1d\\x15>\\xcc8\\x1c?\\xa0\\x86\\xb0<X\\xae\\x9f=\\xe0d.=\\xca\\x03\\x9c>\\xb5\\x84B?\\x80\\x97\\x0f=\\x90\\xa8\\x0b=\\xc0\\x7f\\x17<\\xf0\\x05\\xf9>\\xe8P\\xf9=\\xdb\\xa4s?\\x1a\\t\\xa9>2\"\\xe3>\\xccq\\x1b>\\x88W;>\\xf8\\x89\\xfd=\\x97]\\x01?\\x8c\\xe2&>\\x8aj$?\\xec\\x1f\\xe3>\\x1c\\x188>\\x94!\\x06>\\xea\\xa3\\xe1>\\x16\\x9d\\xc4>t\\t\\xca>81\\x02>\\x8c1A?\\x14\\xcb\\xa2>|\\x97\\x82>\\xbaL\\xee>\\x94\"\\xa9>\\xb0\\xe8+=\\x80\\x99^=\\x96K\\xa2>\\x07N\"?,u\\xc7>\\x0f\\xe4O?t\\x8f\\xf3>=\\xc9Y?\\xaf\\x83t?\\xb1\\x04\\x13?3\\xfe8?\\xfcr\\x89>P\\xbe1?\\x00X\\xdf=\\xd8\\x84E?1\\'v?w>\\x04?\\x8a\\xa1\\xde>\\x9f\\x8f\\x00?1\\xe7l?x\\xa4\\xcc>\\x98\\xd9y>\\xc8\\xfcK>\\xb5PK?\\xc0cb>BB\\xe3>o\\xef\\x15?\\xd3\\x13:?|<\\x84>\\x15\\x1c\\x1c?\\xe8\\x1aL>\\x8c\\xd5\\xf4>F\\xabm?\\x8ey\\x1f?\\x10|B> \\xf8\\xf1=7\\x1eq?\\x99T\\x08?\\x8c\\x88n?\\xa4\\x1a\\xd7>\\xd6\\x1a ?\\x0c\\x97\\xc3>89\\x9c>W\\'\\x1e?\\x10Q7=\\xc8\\xf4M?\\xd7\\xce\\x0f?\\xcb\\x8d\\\\?\\x92aK?\\xaaW\\x98>\\xd0\\x12\\x0b?b\\xe3\\x17?o}\\x0b?\\xb4Q\\x91>\\xf7\\x9d6?0:\\xbb>\\x1c\\x086>R\\xe7\\xf4>\\xd4\\x04\\xda>\\x95q\\t?<]d>v\\xde\\xbd>\\xb0a{=\\x03\\xe5%?\\xd0\\xf5\\x16?\\xf0\\'l>\\xc8}\\xd1=\\xfc\\xb58?\\xb4`\\x9e>\\xac~\\xa8>\\xa0\\xd2B=\\xadcm?B\\xf1Z?l d>,\\xd3^?c\\xa4L?ph\\x07>\\x93|\\x18?\\x106C?\\n\\xfd\\x03?-}D?\\xc0\\x9c\\xfb=\\x9e+>?\\xdb\\x03(?F&\\xb5>\\xde\\xb0b?vD\\xb0>\\x0c\\x99\\xf7>?J#?%\\x17#?\\xd8O\\xd7=\\xcc\\x11\">5\\xf9f?B\\xd8\\x88>\\xcc\\x98\\t>4\\x95\\x17?T\\x01l>gF1?\\x93\\x9e\\x15?\\x80\\x81\\xa8>\\xa8~\\xf7>b\\t\\x9a>\\xc0\\tY>\\xb0#\\xcb=\\xa2\\x94^?\\xb0\\xbb\\xc9=U\\xc9\\x05?\\xf0\\xb3\\xf0>\\xae\\xc1\\xd4>(|\\x92>\\xb8\\x95\\xa2=\\xe6(Q?L!j?\\x8e\\x9c\\x0e?4M\\xc3>\\xa8@\\xa4=Z\\xd2\\x8f>\\xb1\\xe7!?\\xd3^g?\\xa0\\x98~?\\xfe:*?<\\xf5X?\\xd4Dw?\\xf3\\xdfh?\\x10\\x1bm=\\x89n\\x1e?D\\x1d\\x98>{3\\x1e?\\x8e\\xe4\\xe8>\\x00\\xb5\\x0f;\\x9a$\\xbb>X\\xceh>\\x80\\xfd\\x0b<\\x0e\\xf7\\xbb>\\x80\\xfa\\xc2<x\\xd0\\xf9=d\\x04\\x0e?\\x95\\tq?\\xd4\\xe2g>\\xa0qg?\\x80[\\xdc=\\xd8\\x17\\x9f=Cd\\x07?C\\xf7D?\\x98\\xfd\\xe8>@\\x82\\xbc<0\\xe4m>\\xd8\\xe0\\x80>\\xcab\\xa1>T4\\xf7>R0\\x80>\\xd7wD?\\x08\\xec\\x88=fV\\x1e?P\\nO=\\xfd/S?*\\x1d\\xc6>\\xb6O7?\\xc8O\\t?\\xe04\\xef<\\x04b\\xc8>\\xaewC?\\x92\\xaa\\x8c>\\x823l?\\xe0\\xa0\\xdf<x\\xc7\\t?\\x03vA?\\x00$Z<8\\x07\\xd0>\\x0c/c>@\\xd6!?lve>\\xf0\"\\xae>\\xb6\\x02a?\\x00)\\x93>\\xbc\\x0b\\xcc>p\\xc7P=\\xd2ar?9\\xdd|?i\\x03+?\\x9a\\r]?X\\xd4e?\\x04\\xc6u>\\xa1\\xedc?\\xc7gl?\\x85\\xedi?j6\\xa5>\\xe2\\x1b!?\\x80\\xa9\\xb3;\\xe8*\\xd9=\\xb2b\\xf1>ub\"?\\x94\\x91i?\\x10\\xff\\xae=\\xf0\\x16P=\\x0f\\xba\\x11?/\\xfe??\\xf8\\x161>\\xe0\\xa5\\xc5=C\\x16L?\\xac\\x8c\\xf7>\\x1e\\x08F?\\x9c\\n\\x07?p\\xdaJ=\\xf6\\xae\\x8b>\\x9c\\x86h?|s\\xc0>*\\xd8\\xb4><.\\xc5>Z\\x15\\xcc>\\xdc\\xe4[>\\xfb\\xc8I?\\x8d\\t^?z\\xb2\\xfa>\\xe0mE=ITN?#\\x7fN?\\xdaR/?\\xce}\\x14?\\xf0\\xc7\\xa1>\\xa3\\xd8C?\\x9c\\xc5\\x12?\\x03\\xf6\\x1a?\\x18\\x88\\xf0=\\xde\\'\\xac>\\xf3\\xd2d?\\x03\\x1f\\x04?6\\x83K?\\xc4\\x1f\\xb5>(?\\x88>\\xf4\\xa6D>\\xc8\\x86\\xa9>v\\x7fx?[\\xb8~?$L\\x8c>\\xac\\xb9\\xd6>\\x87\\x1d\\x18?\\x92\\xaae?\\x08\\x97\\x9d=\\x98\\xe1B?x[x>|\\xaf\\xb6>\\x82\\xd3p?\\xa2=\\xda>\\xf0\\x94+=\\x0c\\xe6\\x00?(/\\x90=\\xd20h?\\xa6\\xa0*?\\xf1\\x94\\x11?\\x00;\\xf8<\\xe2D\\xd7>,;k?\\xa7\\x8d^?\\x06\\xca\\x00?\\x00\\xce<=\\xc5\\xf4I?\\xb0\\xb5\\x91=\\x0c`=>\\xfcH\\xa7>\\x8fW\\x08?\\x80\\xdf\\xe8=N\\xbc\\xfd>\\xa2 |?\\x907=?8\\xf2\\xec=\\\\Iq>\\xba\\xc4\\xa9>\\xb4.w?\\x80\\xd7\\xc4<\\xfc\\x92\\n>\\x903\\xc2=\\xeb\\xf5G?K+)?\\xb2\\xc3\\x87>\\xc0lZ>\\x0cm\\xa3>\\xe5\\xcd\\x1a?\\xb2{\\xc2>\\x19\\x93D?\\xbf22?\\x10\\x85X?$\\x19~?LN/>\\xd3\\xe2\\x11?\\x8f>1?\\xd0\\xc3V?\\x80/#?\\xc4[R?\\x90\\x14\\x07?\\xe8\\x81&?.\\x86\\xe8>\\x9a\\x81\\xbf>\\x84R\\x07>\\xb4\\xa9\\xdb>\\x88:$?\\xe0\\xb2)>\\x18d\\xe0=6\\xc2E?\\xa7A.?O9\\t?0\\xa2_=\\xc8\\xd6\\xa3=L7{>D\\xc2\\x0e>b!\\xcd>6\\x81\\xc7>\\x08\\xdcT>\\x10@\\xfe=\\xc9\\x13(?\\xdc*[?(\\xc1W>\\x98\\xe6\\xa0=\\x00&\\x9b=\\xea(Y?\\xf8\\x92\\xbe=(\\xa5o?\\x84\\x83}? O4=}!o?\\x9c\\x83F?\\xe4\\x10\\x1c>\\x80\\x99<<0\\x82\\xaf=\\xb0\\xec\\xab=<}\\x1d>\\x8caY?\\xd4\\xfd\\x04?\\x98\\x81~>\\xac\\xcf6?\\x0f\\xe7\\x17?\\x8a\\xc6,?9\\x8e\\x1a?T\\xd2-?\\xcc\\x81\\x07?\\xcfu\\x00?\\xa0\\xb7]?\\xbd\\x92f?`\\x1d\\xc5<\\xf8/\\x06>$\\xa6\\xa0>\\x90,`?Vp\\xcd>\\x9aN\\xc5>\\x90\\x92\\x0f?d[(?\\x90\\x93\\x15?(\\xd2C?\\xe05Z?4}\\x0f>HF\\x0c?\\xae\\x99\\x8b>\\x94\\\\P>\\xfeRd?\\x18\\xd8P>\\x986<?d\\x80i?\\xf2\\xed\\xc6>x\\xd6\\x81=\\x88hQ?\\xaeD\\xc1>\\xae\\xda_?t\\xabv?h7[>L2+?\\x80\\xb9\\xe0<\\x80]\\xd3>\\xea\\xd4Q?\\x19A\"?{K@?\\xa3\\xc5`?\\x08\\x97\\xa6=\\xa8W\\xfc=\\xb3\\x1b\\x11?\\x8f\\x81<?\\xc2\\x8d\\xbd>\\xf9Q#?(\\xfda>\\xe9jJ?\\x00\\x92P;\\xc3\\x1ds?\"\\\\v?v\\xaa\\x1e?\\xaaj;?\\x94lh?\\'\\x19Z?nn\\xd2>|\\xc8@>\\x04\\x8c\\x7f?\\xda\\xd0^?p\\x16r?\\xf7\\xee\\x1a?\\xe0\\xcf%>\\x00\\xe8b<@\\xaa\\xc4>\\xf6\\xce\\x87>(\\x82\\x81=\\xef\\xe8`?\\x06\\xfb\\xb1>Aru?\\x8c0!?\\xd2\\x8f\\xe4>\\xe2\\xb0\\xef>\\xcc\\xc3I?4\\xa4H>\\xe6Aw?p<\\xba=?QO?`(\\x7f?km#?B\\nh?=\\xbay?\\xfc!\\xca>\\xac[\\xc9>T.Y>\\xc8N8?3\\x959?\\x08\\xab\\x84=\\x12\\xca\\x94>\\x9b\\xf4\\x11?\\xed\\x8d_?5\\xe1\\'?\\xc0[_=r\\xef\\xf6>\\x90{M=\\x95\\'\\x02?\\xc01\\xd0=\\xa1V<?\\\\\\xf4\\xd8>\\xec|\\xb5>\\x07\\x83~?0\\xe0\\xc6=\\xd9\\rV?4\\xd0\\x1f>\\x8c9\\xf3>>8#?\\xc1\\x938?\\xec6\\'?\\xbc\\xc9\\xab>x\\xa9g>@\\xe2\\xc7<\\x7f\\x00\\'?P\\x16\\x8d>\\xd53*?\\xafO8?\\xacIi>\\x8a\\xb1x?\\x88#\\xd2>\\xe0\\xd6\\x13?\\x03\\xd8Y?`G=>B\\xb8=?\\xbc\\xd1_?&\\x83\\xe7>q\\x02\\x85q\\x03Rq\\x04K\\x00M\\x00\\x04K\\x03\\x86q\\x05K\\x03K\\x01\\x86q\\x06\\x89ccollections\\nOrderedDict\\nq\\x07)Rq\\x08tq\\tRq\\n.'"
      ]
     },
     "execution_count": 34,
     "metadata": {},
     "output_type": "execute_result"
    }
   ],
   "source": [
    "pickle.dumps(a)"
   ]
  },
  {
   "cell_type": "code",
   "execution_count": null,
   "metadata": {},
   "outputs": [],
   "source": []
  },
  {
   "cell_type": "code",
   "execution_count": 33,
   "metadata": {},
   "outputs": [
    {
     "data": {
      "text/plain": [
       "tensor([[0.1338, 0.6957, 0.2630],\n",
       "        [0.6451, 0.5949, 0.2743],\n",
       "        [0.4316, 0.8420, 0.7912],\n",
       "        ...,\n",
       "        [0.2278, 0.9715, 0.4104],\n",
       "        [0.5775, 0.8510, 0.1848],\n",
       "        [0.7411, 0.8743, 0.4522]])"
      ]
     },
     "execution_count": 33,
     "metadata": {},
     "output_type": "execute_result"
    }
   ],
   "source": [
    "a = torch.rand(1024, 3)\n",
    "a"
   ]
  },
  {
   "cell_type": "code",
   "execution_count": 25,
   "metadata": {},
   "outputs": [],
   "source": [
    "s = reduce_storage(a.storage())[1][1]"
   ]
  },
  {
   "cell_type": "code",
   "execution_count": 26,
   "metadata": {},
   "outputs": [
    {
     "data": {
      "text/plain": [
       "57"
      ]
     },
     "execution_count": 26,
     "metadata": {},
     "output_type": "execute_result"
    }
   ],
   "source": [
    "s.detach()"
   ]
  },
  {
   "cell_type": "code",
   "execution_count": 24,
   "metadata": {},
   "outputs": [
    {
     "data": {
      "text/plain": [
       "(43, 96)"
      ]
     },
     "execution_count": 24,
     "metadata": {},
     "output_type": "execute_result"
    }
   ],
   "source": [
    "a.storage()._share_fd_()"
   ]
  },
  {
   "cell_type": "code",
   "execution_count": 15,
   "metadata": {},
   "outputs": [],
   "source": [
    "def reduce_storage(storage):\n",
    "    fd, size = storage._share_fd_()\n",
    "    df = multiprocessing.reduction.DupFd(fd)\n",
    "    metadata = (df, size)\n",
    "    rebuild = None\n",
    "#     rebuild = rebuild_storage_fd\n",
    "    \n",
    "    return (rebuild, (type(storage),) + metadata)"
   ]
  },
  {
   "cell_type": "code",
   "execution_count": null,
   "metadata": {},
   "outputs": [],
   "source": [
    "def reduce_storage():\n",
    "    fd, size = storage._share_fd_()\n",
    "    df = multiprocessing.reduction.DupFd(fd)\n",
    "    cache_key = fd_id(fd)\n",
    "    metadata = (df, size)\n",
    "    rebuild = rebuild_storage_fd\n",
    "    \n",
    "    return (rebuild, (type(storage),) + metadata)\n",
    "\n",
    "def rebuild_storage(cls, df, size):\n",
    "    if sys.version_info[0] == 2:\n",
    "        while True:\n",
    "            try:\n",
    "                fd = multiprocessing.reduction.rebuild_handle(df)\n",
    "                break\n",
    "            except OSError as e:\n",
    "                # Retry on EINTR for platforms that support it\n",
    "                if e.errno != getattr(errno, 'EINTR', None):\n",
    "                    raise\n",
    "    else:\n",
    "        fd = df.detach()\n",
    "    try:\n",
    "        storage = storage_from_cache(cls, fd_id(fd))\n",
    "        if storage is not None:\n",
    "            return storage\n",
    "        storage = cls._new_shared_fd(fd, size)\n",
    "        shared_cache[fd_id(fd)] = StorageWeakRef(storage)\n",
    "        return storage\n",
    "    finally:\n",
    "        os.close(fd)"
   ]
  },
  {
   "cell_type": "code",
   "execution_count": null,
   "metadata": {},
   "outputs": [],
   "source": [
    "torch."
   ]
  },
  {
   "cell_type": "code",
   "execution_count": 2,
   "metadata": {},
   "outputs": [
    {
     "ename": "NameError",
     "evalue": "name 'np' is not defined",
     "output_type": "error",
     "traceback": [
      "\u001b[0;31m---------------------------------------------------------------------------\u001b[0m",
      "\u001b[0;31mNameError\u001b[0m                                 Traceback (most recent call last)",
      "\u001b[0;32m<ipython-input-2-942a58a41cba>\u001b[0m in \u001b[0;36m<module>\u001b[0;34m\u001b[0m\n\u001b[0;32m----> 1\u001b[0;31m \u001b[0mtypecodes\u001b[0m \u001b[0;34m=\u001b[0m \u001b[0mnp\u001b[0m\u001b[0;34m.\u001b[0m\u001b[0mctypeslib\u001b[0m\u001b[0;34m.\u001b[0m\u001b[0m_get_typecodes\u001b[0m\u001b[0;34m(\u001b[0m\u001b[0;34m)\u001b[0m\u001b[0;34m\u001b[0m\u001b[0;34m\u001b[0m\u001b[0m\n\u001b[0m",
      "\u001b[0;31mNameError\u001b[0m: name 'np' is not defined"
     ]
    }
   ],
   "source": [
    "typecodes = np.ctypeslib._get_typecodes()"
   ]
  },
  {
   "cell_type": "code",
   "execution_count": 1,
   "metadata": {},
   "outputs": [],
   "source": [
    "from multiprocessing import Array"
   ]
  },
  {
   "cell_type": "code",
   "execution_count": 3,
   "metadata": {},
   "outputs": [],
   "source": [
    "def int_to_bytes(x: int):\n",
    "    byte_size = (int.bit_length(x) + 8) // 8\n",
    "    return int.to_bytes(x, length=byte_size, byteorder='big')"
   ]
  },
  {
   "cell_type": "code",
   "execution_count": 5,
   "metadata": {},
   "outputs": [
    {
     "data": {
      "text/plain": [
       "12"
      ]
     },
     "execution_count": 5,
     "metadata": {},
     "output_type": "execute_result"
    }
   ],
   "source": [
    "int.from_bytes(int_to_bytes(12), byteorder='big')"
   ]
  },
  {
   "cell_type": "code",
   "execution_count": 6,
   "metadata": {},
   "outputs": [],
   "source": [
    "class TwoLayerNet(torch.nn.Module):\n",
    "    def __init__(self, D_in, H, D_out):\n",
    "        \"\"\"\n",
    "        In the constructor we instantiate two nn.Linear modules and assign them as\n",
    "        member variables.\n",
    "        \"\"\"\n",
    "        super(TwoLayerNet, self).__init__()\n",
    "        self.linear1 = torch.nn.Linear(D_in, H)\n",
    "        self.linear2 = torch.nn.Linear(H, D_out)\n",
    "\n",
    "    def forward(self, x):\n",
    "        \"\"\"\n",
    "        In the forward function we accept a Tensor of input data and we must return\n",
    "        a Tensor of output data. We can use Modules defined in the constructor as\n",
    "        well as arbitrary operators on Tensors.\n",
    "        \"\"\"\n",
    "        h_relu = self.linear1(x).clamp(min=0)\n",
    "        y_pred = self.linear2(h_relu)\n",
    "        return y_pred"
   ]
  },
  {
   "cell_type": "code",
   "execution_count": 17,
   "metadata": {},
   "outputs": [
    {
     "data": {
      "text/plain": [
       "b'Network_\\x01'"
      ]
     },
     "execution_count": 17,
     "metadata": {},
     "output_type": "execute_result"
    }
   ],
   "source": [
    "b\"Network_\" + int_to_bytestring(1)"
   ]
  },
  {
   "cell_type": "code",
   "execution_count": 16,
   "metadata": {},
   "outputs": [
    {
     "data": {
      "text/plain": [
       "b'\\x00\\x80'"
      ]
     },
     "execution_count": 16,
     "metadata": {},
     "output_type": "execute_result"
    }
   ],
   "source": [
    "int_to_bytestring(128)"
   ]
  },
  {
   "cell_type": "code",
   "execution_count": 9,
   "metadata": {},
   "outputs": [
    {
     "data": {
      "text/plain": [
       "b'\\x00\\x00\\x00\\x0c'"
      ]
     },
     "execution_count": 9,
     "metadata": {},
     "output_type": "execute_result"
    }
   ],
   "source": [
    "int.to_bytes(12, length=4, byteorder='big')"
   ]
  },
  {
   "cell_type": "code",
   "execution_count": 2,
   "metadata": {},
   "outputs": [],
   "source": [
    "manager = multiprocessing.Manager()"
   ]
  },
  {
   "cell_type": "code",
   "execution_count": 4,
   "metadata": {},
   "outputs": [],
   "source": [
    "d = manager.dict()"
   ]
  },
  {
   "cell_type": "code",
   "execution_count": 6,
   "metadata": {},
   "outputs": [],
   "source": [
    "e = manager.Event()"
   ]
  },
  {
   "cell_type": "code",
   "execution_count": 8,
   "metadata": {},
   "outputs": [
    {
     "data": {
      "text/plain": [
       "False"
      ]
     },
     "execution_count": 8,
     "metadata": {},
     "output_type": "execute_result"
    }
   ],
   "source": [
    "e.is_set()"
   ]
  },
  {
   "cell_type": "code",
   "execution_count": 5,
   "metadata": {},
   "outputs": [
    {
     "data": {
      "text/plain": [
       "<DictProxy object, typeid 'dict' at 0x7fdba8fd9400>"
      ]
     },
     "execution_count": 5,
     "metadata": {},
     "output_type": "execute_result"
    }
   ],
   "source": [
    "d"
   ]
  },
  {
   "cell_type": "code",
   "execution_count": 5,
   "metadata": {},
   "outputs": [],
   "source": [
    "weights = {'t1': t1, 't2': t2}"
   ]
  },
  {
   "cell_type": "code",
   "execution_count": 6,
   "metadata": {},
   "outputs": [],
   "source": [
    "def test(weights):\n",
    "    weights['t1'].data[:2, :] = torch.from_numpy(np.random.rand(2, 4).astype(np.float32))"
   ]
  },
  {
   "cell_type": "code",
   "execution_count": 7,
   "metadata": {},
   "outputs": [
    {
     "name": "stdout",
     "output_type": "stream",
     "text": [
      "tensor([[0.7302, 0.5888, 0.7264, 0.5801],\n",
      "        [0.6394, 0.2228, 0.7829, 0.6452],\n",
      "        [0.6523, 0.7329, 0.0077, 0.1489],\n",
      "        [0.0090, 0.8313, 0.1499, 0.3119],\n",
      "        [0.3969, 0.0732, 0.2415, 0.0134]])\n",
      "tensor([[0.9169, 0.1403, 0.4983, 0.2535],\n",
      "        [0.6777, 0.6849, 0.7462, 0.7037],\n",
      "        [0.6523, 0.7329, 0.0077, 0.1489],\n",
      "        [0.0090, 0.8313, 0.1499, 0.3119],\n",
      "        [0.3969, 0.0732, 0.2415, 0.0134]])\n"
     ]
    }
   ],
   "source": [
    "print(t1[:5])\n",
    "process = multiprocessing.Process(target=test, args=(weights, ))\n",
    "process.start()\n",
    "process.join()\n",
    "print(t1[:5])"
   ]
  },
  {
   "cell_type": "code",
   "execution_count": 25,
   "metadata": {},
   "outputs": [
    {
     "data": {
      "text/plain": [
       "tensor([[1.3103, 0.6176, 0.2781, 0.2319],\n",
       "        [0.5442, 0.0717, 0.9239, 0.3653],\n",
       "        [0.0487, 0.5143, 0.4655, 0.7040],\n",
       "        [0.7518, 0.8226, 0.3952, 0.9089],\n",
       "        [0.1544, 0.3327, 0.6164, 0.5924],\n",
       "        [0.4847, 0.7897, 0.9580, 0.8271],\n",
       "        [0.5833, 0.4050, 0.7880, 0.6106],\n",
       "        [0.6991, 0.4310, 0.0168, 0.0761],\n",
       "        [0.0753, 0.3032, 0.5672, 0.4065],\n",
       "        [0.9160, 0.9159, 0.7107, 0.8792],\n",
       "        [0.8884, 0.9875, 0.4541, 0.4490],\n",
       "        [0.1017, 0.9518, 0.5400, 0.1826],\n",
       "        [0.2967, 0.6562, 0.5817, 0.5010],\n",
       "        [0.3975, 0.4820, 0.3497, 0.1577],\n",
       "        [0.0810, 0.8246, 0.4437, 0.2033],\n",
       "        [0.6491, 0.6743, 0.6639, 0.9179],\n",
       "        [0.3475, 0.3017, 0.4614, 0.7776],\n",
       "        [0.8288, 0.4961, 0.2599, 0.3580],\n",
       "        [0.5064, 0.4028, 0.8753, 0.4936],\n",
       "        [0.8189, 0.6436, 0.4822, 0.1152],\n",
       "        [0.4826, 0.8062, 0.3788, 0.8734],\n",
       "        [0.5797, 0.3920, 0.7408, 0.5955],\n",
       "        [0.7285, 0.6074, 0.9751, 0.2825],\n",
       "        [0.4155, 0.7552, 0.1376, 0.7295],\n",
       "        [0.0852, 0.7549, 0.5440, 0.6332],\n",
       "        [0.9607, 0.0592, 0.5442, 0.2811],\n",
       "        [0.5388, 0.6156, 0.1059, 0.9195],\n",
       "        [0.6838, 0.7543, 0.7093, 0.6354],\n",
       "        [0.0877, 0.2131, 0.4757, 0.1472],\n",
       "        [0.5583, 0.2074, 0.6552, 0.6462],\n",
       "        [0.3073, 0.9298, 0.8824, 0.4705],\n",
       "        [0.3772, 0.1168, 0.3652, 0.8031]])"
      ]
     },
     "execution_count": 25,
     "metadata": {},
     "output_type": "execute_result"
    }
   ],
   "source": [
    "t1"
   ]
  },
  {
   "cell_type": "code",
   "execution_count": 28,
   "metadata": {},
   "outputs": [
    {
     "data": {
      "text/plain": [
       "1"
      ]
     },
     "execution_count": 28,
     "metadata": {},
     "output_type": "execute_result"
    }
   ],
   "source": [
    "a = 1\n",
    "b = a\n",
    "a += 1\n",
    "b"
   ]
  },
  {
   "cell_type": "code",
   "execution_count": 8,
   "metadata": {},
   "outputs": [
    {
     "data": {
      "text/plain": [
       "torch.dtype"
      ]
     },
     "execution_count": 8,
     "metadata": {},
     "output_type": "execute_result"
    }
   ],
   "source": [
    "torch.dtype"
   ]
  },
  {
   "cell_type": "code",
   "execution_count": 10,
   "metadata": {},
   "outputs": [
    {
     "data": {
      "text/plain": [
       "torch.dtype"
      ]
     },
     "execution_count": 10,
     "metadata": {},
     "output_type": "execute_result"
    }
   ],
   "source": [
    "type(torch.float32)"
   ]
  },
  {
   "cell_type": "code",
   "execution_count": 1,
   "metadata": {},
   "outputs": [],
   "source": [
    "from collections import namedtuple"
   ]
  },
  {
   "cell_type": "code",
   "execution_count": 1,
   "metadata": {},
   "outputs": [],
   "source": [
    "import zmq\n",
    "from multiprocessing import Process\n",
    "from time import sleep"
   ]
  },
  {
   "cell_type": "code",
   "execution_count": 2,
   "metadata": {},
   "outputs": [],
   "source": [
    "context = zmq.Context()\n",
    "sender = context.socket(zmq.PUSH)\n",
    "sender.bind(\"ipc://predict_requests\")"
   ]
  },
  {
   "cell_type": "code",
   "execution_count": 2,
   "metadata": {},
   "outputs": [],
   "source": [
    "import torch\n",
    "from torch import multiprocessing\n",
    "from time import sleep"
   ]
  },
  {
   "cell_type": "code",
   "execution_count": 2,
   "metadata": {},
   "outputs": [],
   "source": [
    "def worker(index, queue):   \n",
    "    while True:\n",
    "        d = queue.get()\n",
    "        d += 1"
   ]
  },
  {
   "cell_type": "code",
   "execution_count": 3,
   "metadata": {},
   "outputs": [],
   "source": [
    "queue = multiprocessing.Queue()\n",
    "worker = multiprocessing.Process(target=worker, args=(0, queue), daemon=True)\n",
    "worker.start()"
   ]
  },
  {
   "cell_type": "code",
   "execution_count": 18,
   "metadata": {},
   "outputs": [
    {
     "data": {
      "text/plain": [
       "tensor([[0.0035, 0.3324, 0.7835, 0.7276, 0.1954, 0.0789, 0.3726, 0.9877, 0.2786,\n",
       "         0.2856, 0.2707, 0.5889],\n",
       "        [0.7975, 0.9865, 0.9349, 0.4186, 0.0716, 0.4256, 0.2806, 0.4129, 0.6475,\n",
       "         0.1582, 0.0203, 0.0465],\n",
       "        [0.8655, 0.0849, 0.3503, 0.7457, 0.4265, 0.3060, 0.5742, 0.8703, 0.3958,\n",
       "         0.9928, 0.7062, 0.7335],\n",
       "        [0.2067, 0.3931, 0.5322, 0.2773, 0.7732, 0.6238, 0.8132, 0.5099, 0.6563,\n",
       "         0.2741, 0.6712, 0.2482],\n",
       "        [0.1494, 0.7254, 0.5421, 0.7976, 0.3058, 0.3197, 0.4539, 0.0400, 0.3938,\n",
       "         0.3690, 0.0743, 0.6682],\n",
       "        [0.8402, 0.6836, 0.4874, 0.9802, 0.8271, 0.7632, 0.3399, 0.0866, 0.9726,\n",
       "         0.5154, 0.2121, 0.8125],\n",
       "        [0.5872, 0.8170, 0.6003, 0.7329, 0.6563, 0.8114, 0.3729, 0.2831, 0.7752,\n",
       "         0.3881, 0.8724, 0.3301],\n",
       "        [0.5460, 0.8322, 0.8346, 0.7919, 0.7609, 0.6329, 0.8265, 0.2101, 0.7765,\n",
       "         0.3699, 0.1001, 0.2619]])"
      ]
     },
     "execution_count": 18,
     "metadata": {},
     "output_type": "execute_result"
    }
   ],
   "source": [
    "a = torch.rand(8, 4)\n",
    "a.share_memory_()\n",
    "\n",
    "b = torch.rand(8, 1)\n",
    "b.share_memory_()\n",
    "\n",
    "c = torch.rand(8, 12)\n",
    "c.share_memory_()\n"
   ]
  },
  {
   "cell_type": "code",
   "execution_count": 28,
   "metadata": {},
   "outputs": [
    {
     "data": {
      "text/plain": [
       "<multiprocessing.synchronize.Event at 0x7fb66c482d68>"
      ]
     },
     "execution_count": 28,
     "metadata": {},
     "output_type": "execute_result"
    }
   ],
   "source": [
    "event = multiprocessing.Event()\n",
    "event"
   ]
  },
  {
   "cell_type": "code",
   "execution_count": 9,
   "metadata": {},
   "outputs": [
    {
     "data": {
      "text/plain": [
       "<Lock(owner=None)>"
      ]
     },
     "execution_count": 9,
     "metadata": {},
     "output_type": "execute_result"
    }
   ],
   "source": [
    "lock= multiprocessing.Lock()\n",
    "lock"
   ]
  },
  {
   "cell_type": "code",
   "execution_count": 2,
   "metadata": {},
   "outputs": [
    {
     "ename": "RuntimeError",
     "evalue": "Queue objects should only be shared between processes through inheritance",
     "output_type": "error",
     "traceback": [
      "\u001b[0;31m---------------------------------------------------------------------------\u001b[0m",
      "\u001b[0;31mRuntimeError\u001b[0m                              Traceback (most recent call last)",
      "\u001b[0;32m<ipython-input-2-8fa8cae2646c>\u001b[0m in \u001b[0;36m<module>\u001b[0;34m\u001b[0m\n\u001b[1;32m      1\u001b[0m \u001b[0;32mimport\u001b[0m \u001b[0mpickle\u001b[0m\u001b[0;34m\u001b[0m\u001b[0;34m\u001b[0m\u001b[0m\n\u001b[0;32m----> 2\u001b[0;31m \u001b[0mpickle\u001b[0m\u001b[0;34m.\u001b[0m\u001b[0mdumps\u001b[0m\u001b[0;34m(\u001b[0m\u001b[0mmultiprocessing\u001b[0m\u001b[0;34m.\u001b[0m\u001b[0mQueue\u001b[0m\u001b[0;34m(\u001b[0m\u001b[0;34m)\u001b[0m\u001b[0;34m)\u001b[0m\u001b[0;34m\u001b[0m\u001b[0;34m\u001b[0m\u001b[0m\n\u001b[0m",
      "\u001b[0;32m~/anaconda3/lib/python3.7/multiprocessing/queues.py\u001b[0m in \u001b[0;36m__getstate__\u001b[0;34m(self)\u001b[0m\n\u001b[1;32m     56\u001b[0m \u001b[0;34m\u001b[0m\u001b[0m\n\u001b[1;32m     57\u001b[0m     \u001b[0;32mdef\u001b[0m \u001b[0m__getstate__\u001b[0m\u001b[0;34m(\u001b[0m\u001b[0mself\u001b[0m\u001b[0;34m)\u001b[0m\u001b[0;34m:\u001b[0m\u001b[0;34m\u001b[0m\u001b[0;34m\u001b[0m\u001b[0m\n\u001b[0;32m---> 58\u001b[0;31m         \u001b[0mcontext\u001b[0m\u001b[0;34m.\u001b[0m\u001b[0massert_spawning\u001b[0m\u001b[0;34m(\u001b[0m\u001b[0mself\u001b[0m\u001b[0;34m)\u001b[0m\u001b[0;34m\u001b[0m\u001b[0;34m\u001b[0m\u001b[0m\n\u001b[0m\u001b[1;32m     59\u001b[0m         return (self._ignore_epipe, self._maxsize, self._reader, self._writer,\n\u001b[1;32m     60\u001b[0m                 self._rlock, self._wlock, self._sem, self._opid)\n",
      "\u001b[0;32m~/anaconda3/lib/python3.7/multiprocessing/context.py\u001b[0m in \u001b[0;36massert_spawning\u001b[0;34m(obj)\u001b[0m\n\u001b[1;32m    354\u001b[0m         raise RuntimeError(\n\u001b[1;32m    355\u001b[0m             \u001b[0;34m'%s objects should only be shared between processes'\u001b[0m\u001b[0;34m\u001b[0m\u001b[0;34m\u001b[0m\u001b[0m\n\u001b[0;32m--> 356\u001b[0;31m             \u001b[0;34m' through inheritance'\u001b[0m \u001b[0;34m%\u001b[0m \u001b[0mtype\u001b[0m\u001b[0;34m(\u001b[0m\u001b[0mobj\u001b[0m\u001b[0;34m)\u001b[0m\u001b[0;34m.\u001b[0m\u001b[0m__name__\u001b[0m\u001b[0;34m\u001b[0m\u001b[0;34m\u001b[0m\u001b[0m\n\u001b[0m\u001b[1;32m    357\u001b[0m             )\n",
      "\u001b[0;31mRuntimeError\u001b[0m: Queue objects should only be shared between processes through inheritance"
     ]
    }
   ],
   "source": [
    "import pickle\n",
    "pickle.dumps(multiprocessing.Queue())"
   ]
  },
  {
   "cell_type": "code",
   "execution_count": 19,
   "metadata": {},
   "outputs": [],
   "source": [
    "data = {'a': a, 'b': b, 'c': c}"
   ]
  },
  {
   "cell_type": "code",
   "execution_count": 20,
   "metadata": {},
   "outputs": [],
   "source": [
    "buf = io.BytesIO()\n",
    "ForkingPickler(buf, pickle.HIGHEST_PROTOCOL).dump(data)\n",
    "val = buf.getvalue()"
   ]
  },
  {
   "cell_type": "code",
   "execution_count": 23,
   "metadata": {},
   "outputs": [],
   "source": [
    "dat = pickle.loads(val)"
   ]
  },
  {
   "cell_type": "code",
   "execution_count": 25,
   "metadata": {},
   "outputs": [],
   "source": [
    "dat['a'] += 1"
   ]
  },
  {
   "cell_type": "code",
   "execution_count": 22,
   "metadata": {},
   "outputs": [],
   "source": [
    "from multiprocessing.reduction import ForkingPickler\n",
    "import pickle\n",
    "import io\n",
    "\n",
    "buf = io.BytesIO()\n",
    "ForkingPickler(buf, pickle.HIGHEST_PROTOCOL).dump(a)"
   ]
  },
  {
   "cell_type": "code",
   "execution_count": null,
   "metadata": {},
   "outputs": [],
   "source": []
  },
  {
   "cell_type": "code",
   "execution_count": 6,
   "metadata": {},
   "outputs": [
    {
     "data": {
      "text/plain": [
       "b'\\x80\\x04\\x95\\x05\\x01\\x00\\x00\\x00\\x00\\x00\\x00\\x8c torch.multiprocessing.reductions\\x94\\x8c\\x0erebuild_tensor\\x94\\x93\\x94\\x8c\\x05torch\\x94\\x8c\\x06Tensor\\x94\\x93\\x94h\\x00\\x8c\\x12rebuild_storage_fd\\x94\\x93\\x94h\\x03\\x8c\\x0cFloatStorage\\x94\\x93\\x94\\x8c\\x1fmultiprocessing.resource_sharer\\x94\\x8c\\x05DupFd\\x94\\x93\\x94)\\x81\\x94}\\x94\\x8c\\x03_id\\x94\\x8c$/tmp/pymp-__qj94br/listener-5_p557g1\\x94K\\x01\\x86\\x94sbK \\x87\\x94R\\x94(K\\x00h\\x03\\x8c\\x04Size\\x94\\x93\\x94K\\x08K\\x04\\x86\\x94\\x85\\x94\\x81\\x94K\\x04K\\x01\\x86\\x94\\x89t\\x94\\x87\\x94R\\x94.'"
      ]
     },
     "execution_count": 6,
     "metadata": {},
     "output_type": "execute_result"
    }
   ],
   "source": [
    "val = buf.getvalue()\n",
    "val"
   ]
  },
  {
   "cell_type": "code",
   "execution_count": 7,
   "metadata": {},
   "outputs": [
    {
     "data": {
      "text/plain": [
       "tensor([[0.0552, 0.0744, 0.7741, 0.6036],\n",
       "        [0.2920, 0.0800, 0.3155, 0.0188],\n",
       "        [0.1697, 0.2729, 0.9802, 0.1139],\n",
       "        [0.3923, 0.1892, 0.5469, 0.1939],\n",
       "        [0.2792, 0.3746, 0.9684, 0.8010],\n",
       "        [0.4277, 0.1437, 0.9724, 0.8776],\n",
       "        [0.8160, 0.5549, 0.0174, 0.4591],\n",
       "        [0.5295, 0.0308, 0.9904, 0.9223]])"
      ]
     },
     "execution_count": 7,
     "metadata": {},
     "output_type": "execute_result"
    }
   ],
   "source": [
    "c = pickle.loads(val)\n",
    "c"
   ]
  },
  {
   "cell_type": "code",
   "execution_count": 9,
   "metadata": {},
   "outputs": [],
   "source": [
    "a += 1"
   ]
  },
  {
   "cell_type": "code",
   "execution_count": 10,
   "metadata": {},
   "outputs": [
    {
     "data": {
      "text/plain": [
       "tensor([[1.0552, 1.0744, 1.7741, 1.6036],\n",
       "        [1.2920, 1.0800, 1.3155, 1.0188],\n",
       "        [1.1697, 1.2729, 1.9802, 1.1139],\n",
       "        [1.3923, 1.1892, 1.5469, 1.1939],\n",
       "        [1.2792, 1.3746, 1.9684, 1.8010],\n",
       "        [1.4277, 1.1437, 1.9724, 1.8776],\n",
       "        [1.8160, 1.5549, 1.0174, 1.4591],\n",
       "        [1.5295, 1.0308, 1.9904, 1.9223]])"
      ]
     },
     "execution_count": 10,
     "metadata": {},
     "output_type": "execute_result"
    }
   ],
   "source": [
    "c"
   ]
  },
  {
   "cell_type": "code",
   "execution_count": 1,
   "metadata": {},
   "outputs": [
    {
     "name": "stdout",
     "output_type": "stream",
     "text": [
      "b'hi there \\x01'\n",
      "b'hi there \\x02'\n",
      "b'hi there \\x00'\n",
      "b'hi there \\x03'\n",
      "b'hi there \\x04'\n",
      "b'hi there \\x08'\n",
      "b'hi there \\x0c'\n",
      "b'hi there \\x10'\n",
      "b'hi there \\x05'\n",
      "b'hi there \\t'\n",
      "b'hi there \\x06'\n",
      "b'hi there \\r'\n",
      "b'hi there \\x07'\n",
      "b'hi there \\x11'\n",
      "b'hi there \\n'\n",
      "b'hi there \\x0b'\n",
      "b'hi there \\x0e'\n",
      "b'hi there \\x12'\n",
      "b'hi there \\x0f'\n",
      "b'hi there \\x13'\n"
     ]
    }
   ],
   "source": [
    "import zmq\n",
    "from time import sleep\n",
    "import multiprocessing\n",
    "\n",
    "def worker(i):\n",
    "    context = zmq.Context()\n",
    "    socket = context.socket(zmq.PULL)\n",
    "    socket.connect('ipc://channel.ipc')\n",
    "    \n",
    "    while True:\n",
    "        print(socket.recv())\n",
    "        sleep(i)\n",
    "        \n",
    "def int_to_bytestring(x: int):\n",
    "    byte_size = (int.bit_length(x) + 8) // 8\n",
    "    return int.to_bytes(x, length=byte_size, byteorder='big')\n",
    "\n",
    "context = zmq.Context()\n",
    "socket = context.socket(zmq.PUSH)\n",
    "socket.bind('ipc://channel.ipc')\n",
    "\n",
    "workers = [multiprocessing.Process(target=worker, args=(i, ), daemon=True) for i in range(4)]\n",
    "for worker in workers:\n",
    "    worker.start()"
   ]
  },
  {
   "cell_type": "code",
   "execution_count": 2,
   "metadata": {},
   "outputs": [],
   "source": [
    "for i in range(20):\n",
    "    socket.send(b\"hi there \" + int_to_bytestring(i))"
   ]
  },
  {
   "cell_type": "code",
   "execution_count": 5,
   "metadata": {},
   "outputs": [],
   "source": [
    "for i in range(20):\n",
    "    queue.put(f\"hi there {i}\")"
   ]
  },
  {
   "cell_type": "code",
   "execution_count": 1,
   "metadata": {},
   "outputs": [],
   "source": [
    "import zmq\n",
    "from multiprocessing import Process\n",
    "from time import sleep"
   ]
  },
  {
   "cell_type": "code",
   "execution_count": 2,
   "metadata": {},
   "outputs": [],
   "source": [
    "def server_in():\n",
    "    context = zmq.Context()\n",
    "    \n",
    "    server_in_front = context.socket(zmq.DEALER)\n",
    "    server_in_front.setsockopt(zmq.IDENTITY, b'SIF')\n",
    "    server_in_front.bind('ipc://request_frontend')\n",
    "\n",
    "    server_in_back = context.socket(zmq.PUSH)\n",
    "    server_in_back.setsockopt(zmq.IDENTITY, b'SIB')\n",
    "    server_in_back.bind('ipc://request_backend')\n",
    "    \n",
    "    while True:\n",
    "        zmq.proxy(server_in_front, server_in_back)\n",
    "        d1 = server_in_front.recv_multipart()\n",
    "        server_in_back.send_multipart(d1)"
   ]
  },
  {
   "cell_type": "code",
   "execution_count": 3,
   "metadata": {},
   "outputs": [],
   "source": [
    "def server_out():\n",
    "    context = zmq.Context()\n",
    "    \n",
    "    server_out_back = context.socket(zmq.PULL)\n",
    "    server_out_back.setsockopt(zmq.IDENTITY, b'SOB')\n",
    "    server_out_back.bind('ipc://response_backend')\n",
    "\n",
    "    server_out_front = context.socket(zmq.DEALER)\n",
    "    server_out_front.setsockopt(zmq.IDENTITY, b'SOF')\n",
    "    server_out_front.bind('ipc://response_frontend')\n",
    "    \n",
    "    while True:\n",
    "        zmq.proxy(server_out_back, server_out_front)\n",
    "        d3 = server_out_back.recv_multipart()\n",
    "        server_out_front.send_multipart(d3)"
   ]
  },
  {
   "cell_type": "code",
   "execution_count": 4,
   "metadata": {},
   "outputs": [],
   "source": [
    "def network():\n",
    "    context = zmq.Context()\n",
    "    \n",
    "    network_in = context.socket(zmq.PULL)\n",
    "    network_in.setsockopt(zmq.IDENTITY, b'NI')\n",
    "    network_in.connect('ipc://request_backend')\n",
    "\n",
    "    network_out = context.socket(zmq.PUSH)\n",
    "    network_out.setsockopt(zmq.IDENTITY, b'NO')\n",
    "    network_out.connect('ipc://response_backend')\n",
    "    \n",
    "    while True:\n",
    "        zmq.proxy(network_in, network_out)\n",
    "        d2 = network_in.recv_multipart()\n",
    "        network_out.send_multipart(d2)\n"
   ]
  },
  {
   "cell_type": "code",
   "execution_count": null,
   "metadata": {},
   "outputs": [],
   "source": []
  },
  {
   "cell_type": "code",
   "execution_count": 5,
   "metadata": {},
   "outputs": [],
   "source": [
    "si = Process(target=server_in)\n",
    "so = Process(target=server_out)\n",
    "n = Process(target=network)\n",
    "\n",
    "si.start()\n",
    "so.start()\n",
    "sleep(0.5)\n",
    "n.start()"
   ]
  },
  {
   "cell_type": "code",
   "execution_count": 6,
   "metadata": {},
   "outputs": [],
   "source": [
    "context = zmq.Context()\n",
    "\n",
    "client_out = context.socket(zmq.DEALER)\n",
    "client_out.setsockopt(zmq.IDENTITY, b'CO')\n",
    "client_out.connect('ipc://request_frontend')\n",
    "\n",
    "\n",
    "client_in = context.socket(zmq.DEALER)\n",
    "client_in.setsockopt(zmq.IDENTITY, b'CO')\n",
    "client_in.connect('ipc://response_frontend')"
   ]
  },
  {
   "cell_type": "code",
   "execution_count": 7,
   "metadata": {},
   "outputs": [
    {
     "data": {
      "text/plain": [
       "[b'predict', b'dog']"
      ]
     },
     "execution_count": 7,
     "metadata": {},
     "output_type": "execute_result"
    }
   ],
   "source": [
    "client_out.send_multipart([b\"predict\", b'dog'])\n",
    "client_in.recv_multipart()"
   ]
  },
  {
   "cell_type": "code",
   "execution_count": 8,
   "metadata": {},
   "outputs": [],
   "source": [
    "from time import time"
   ]
  },
  {
   "cell_type": "code",
   "execution_count": 9,
   "metadata": {},
   "outputs": [
    {
     "name": "stdout",
     "output_type": "stream",
     "text": [
      "0.03258252143859863\n"
     ]
    }
   ],
   "source": [
    "t0 = time()\n",
    "for _ in range(1000):\n",
    "    client_out.send_multipart([b\"predict\", b'dog'])\n",
    "    \n",
    "for _ in range(1000):\n",
    "    out = client_in.recv_multipart()\n",
    "t1 = time()\n",
    "print(t1 - t0)"
   ]
  },
  {
   "cell_type": "code",
   "execution_count": 3,
   "metadata": {},
   "outputs": [],
   "source": [
    "def func():\n",
    "    return [1, 2, 3, 4, 5]"
   ]
  },
  {
   "cell_type": "code",
   "execution_count": 7,
   "metadata": {},
   "outputs": [
    {
     "ename": "ValueError",
     "evalue": "too many values to unpack (expected 2)",
     "output_type": "error",
     "traceback": [
      "\u001b[0;31m---------------------------------------------------------------------------\u001b[0m",
      "\u001b[0;31mValueError\u001b[0m                                Traceback (most recent call last)",
      "\u001b[0;32m<ipython-input-7-ff71c53e4e67>\u001b[0m in \u001b[0;36m<module>\u001b[0;34m\u001b[0m\n\u001b[0;32m----> 1\u001b[0;31m \u001b[0ma\u001b[0m\u001b[0;34m,\u001b[0m \u001b[0mb\u001b[0m \u001b[0;34m=\u001b[0m \u001b[0mfunc\u001b[0m\u001b[0;34m(\u001b[0m\u001b[0;34m)\u001b[0m\u001b[0;34m\u001b[0m\u001b[0;34m\u001b[0m\u001b[0m\n\u001b[0m",
      "\u001b[0;31mValueError\u001b[0m: too many values to unpack (expected 2)"
     ]
    }
   ],
   "source": [
    "a, b = func()"
   ]
  },
  {
   "cell_type": "code",
   "execution_count": 8,
   "metadata": {},
   "outputs": [],
   "source": [
    "x, y, *z = [1, 2]"
   ]
  },
  {
   "cell_type": "code",
   "execution_count": 9,
   "metadata": {},
   "outputs": [
    {
     "data": {
      "text/plain": [
       "[]"
      ]
     },
     "execution_count": 9,
     "metadata": {},
     "output_type": "execute_result"
    }
   ],
   "source": [
    "z"
   ]
  },
  {
   "cell_type": "code",
   "execution_count": 10,
   "metadata": {},
   "outputs": [
    {
     "name": "stdout",
     "output_type": "stream",
     "text": [
      "37.9 ms ± 874 µs per loop (mean ± std. dev. of 7 runs, 10 loops each)\n"
     ]
    }
   ],
   "source": [
    "%%timeit \n",
    "for _ in range(2000):\n",
    "    client_out.send_multipart([b\"predict\", b'dog'])\n",
    "    \n",
    "for _ in range(2000):\n",
    "    client_in.recv_multipart()"
   ]
  },
  {
   "cell_type": "code",
   "execution_count": 10,
   "metadata": {},
   "outputs": [
    {
     "data": {
      "text/plain": [
       "0.019600000000000003"
      ]
     },
     "execution_count": 10,
     "metadata": {},
     "output_type": "execute_result"
    }
   ],
   "source": [
    "39.2 / 2000"
   ]
  },
  {
   "cell_type": "code",
   "execution_count": 13,
   "metadata": {},
   "outputs": [
    {
     "name": "stdout",
     "output_type": "stream",
     "text": [
      "6.42 µs ± 114 ns per loop (mean ± std. dev. of 7 runs, 100000 loops each)\n"
     ]
    }
   ],
   "source": [
    "%%timeit \n",
    "client_out.send_multipart([b\"predict\", b'dog'])\n",
    "d1 = server_in.recv_multipart()"
   ]
  },
  {
   "cell_type": "code",
   "execution_count": 15,
   "metadata": {},
   "outputs": [
    {
     "name": "stdout",
     "output_type": "stream",
     "text": [
      "9.32 µs ± 611 ns per loop (mean ± std. dev. of 7 runs, 100000 loops each)\n"
     ]
    }
   ],
   "source": [
    "%%timeit\n",
    "server_in.send_multipart([b\"NI\", *d1])\n",
    "d2 = network_in.recv_multipart()"
   ]
  },
  {
   "cell_type": "code",
   "execution_count": null,
   "metadata": {},
   "outputs": [],
   "source": [
    "%%timeit"
   ]
  },
  {
   "cell_type": "code",
   "execution_count": 13,
   "metadata": {},
   "outputs": [
    {
     "name": "stdout",
     "output_type": "stream",
     "text": [
      "29.1 µs ± 412 ns per loop (mean ± std. dev. of 7 runs, 10000 loops each)\n"
     ]
    }
   ],
   "source": [
    "%%timeit \n",
    "client_out.send_multipart([b\"predict\", b'dog'])\n",
    "d1 = server_in_front.recv_multipart()\n",
    "\n",
    "server_in_back.send_multipart(d1)\n",
    "d2 = network_in.recv_multipart()\n",
    "\n",
    "\n",
    "network_out.send_multipart(d2)\n",
    "d3 = server_out_back.recv_multipart()\n",
    "\n",
    "server_out_front.send_multipart(d3[1:])\n",
    "client_in.recv_multipart()"
   ]
  },
  {
   "cell_type": "code",
   "execution_count": 14,
   "metadata": {},
   "outputs": [
    {
     "data": {
      "text/plain": [
       "7.5"
      ]
     },
     "execution_count": 14,
     "metadata": {},
     "output_type": "execute_result"
    }
   ],
   "source": [
    "30 / 4"
   ]
  },
  {
   "cell_type": "code",
   "execution_count": 14,
   "metadata": {},
   "outputs": [
    {
     "ename": "ModuleNotFoundError",
     "evalue": "No module named 'torch'",
     "output_type": "error",
     "traceback": [
      "\u001b[0;31m---------------------------------------------------------------------------\u001b[0m",
      "\u001b[0;31mModuleNotFoundError\u001b[0m                       Traceback (most recent call last)",
      "\u001b[0;32m<ipython-input-14-eb42ca6e4af3>\u001b[0m in \u001b[0;36m<module>\u001b[0;34m\u001b[0m\n\u001b[0;32m----> 1\u001b[0;31m \u001b[0;32mimport\u001b[0m \u001b[0mtorch\u001b[0m\u001b[0;34m\u001b[0m\u001b[0;34m\u001b[0m\u001b[0m\n\u001b[0m",
      "\u001b[0;31mModuleNotFoundError\u001b[0m: No module named 'torch'"
     ]
    }
   ],
   "source": [
    "import torch"
   ]
  },
  {
   "cell_type": "code",
   "execution_count": 4,
   "metadata": {},
   "outputs": [],
   "source": [
    "server_in.send_multipart([b\"NI\", *d1])\n",
    "d2 = network_in.recv_multipart()\n",
    "network_out.send_multipart(d2)\n",
    "d3 = server_out.recv_multipart()\n",
    "server_out.send_multipart(d3[2:])\n",
    "client.recv_multipart()"
   ]
  },
  {
   "cell_type": "code",
   "execution_count": 5,
   "metadata": {},
   "outputs": [
    {
     "data": {
      "text/plain": [
       "[b'NO', b'', b'B', b'predict', b'dog']"
      ]
     },
     "execution_count": 5,
     "metadata": {},
     "output_type": "execute_result"
    }
   ],
   "source": []
  },
  {
   "cell_type": "code",
   "execution_count": 6,
   "metadata": {},
   "outputs": [
    {
     "data": {
      "text/plain": [
       "[b'predict', b'dog']"
      ]
     },
     "execution_count": 6,
     "metadata": {},
     "output_type": "execute_result"
    }
   ],
   "source": []
  },
  {
   "cell_type": "code",
   "execution_count": 8,
   "metadata": {},
   "outputs": [
    {
     "ename": "KeyboardInterrupt",
     "evalue": "",
     "output_type": "error",
     "traceback": [
      "\u001b[0;31m---------------------------------------------------------------------------\u001b[0m",
      "\u001b[0;31mKeyboardInterrupt\u001b[0m                         Traceback (most recent call last)",
      "\u001b[0;32m<ipython-input-8-4fbd8c74ffbf>\u001b[0m in \u001b[0;36m<module>\u001b[0;34m\u001b[0m\n\u001b[0;32m----> 1\u001b[0;31m \u001b[0mclient\u001b[0m\u001b[0;34m.\u001b[0m\u001b[0mrecv\u001b[0m\u001b[0;34m(\u001b[0m\u001b[0;34m)\u001b[0m\u001b[0;34m\u001b[0m\u001b[0;34m\u001b[0m\u001b[0m\n\u001b[0m",
      "\u001b[0;32mzmq/backend/cython/socket.pyx\u001b[0m in \u001b[0;36mzmq.backend.cython.socket.Socket.recv\u001b[0;34m()\u001b[0m\n",
      "\u001b[0;32mzmq/backend/cython/socket.pyx\u001b[0m in \u001b[0;36mzmq.backend.cython.socket.Socket.recv\u001b[0;34m()\u001b[0m\n",
      "\u001b[0;32mzmq/backend/cython/socket.pyx\u001b[0m in \u001b[0;36mzmq.backend.cython.socket._recv_copy\u001b[0;34m()\u001b[0m\n",
      "\u001b[0;32m/usr/lib/python3.7/site-packages/zmq/backend/cython/checkrc.pxd\u001b[0m in \u001b[0;36mzmq.backend.cython.checkrc._check_rc\u001b[0;34m()\u001b[0m\n",
      "\u001b[0;31mKeyboardInterrupt\u001b[0m: "
     ]
    }
   ],
   "source": []
  },
  {
   "cell_type": "code",
   "execution_count": 1,
   "metadata": {},
   "outputs": [],
   "source": [
    "import zmq"
   ]
  },
  {
   "cell_type": "code",
   "execution_count": 2,
   "metadata": {},
   "outputs": [],
   "source": [
    "context = zmq.Context()"
   ]
  },
  {
   "cell_type": "code",
   "execution_count": 3,
   "metadata": {},
   "outputs": [],
   "source": [
    "a = context.socket(zmq.ROUTER)\n",
    "a.bind(\"inproc://test\")"
   ]
  },
  {
   "cell_type": "code",
   "execution_count": 4,
   "metadata": {},
   "outputs": [],
   "source": [
    "b = context.socket(zmq.SUB)\n",
    "b.setsockopt(zmq.SUBSCRIBE, b'')b.connect(\"inproc://test\")"
   ]
  },
  {
   "cell_type": "code",
   "execution_count": 5,
   "metadata": {},
   "outputs": [],
   "source": [
    "c = context.socket(zmq.DEALER)\n",
    "c.connect(\"inproc://test\")"
   ]
  },
  {
   "cell_type": "code",
   "execution_count": 6,
   "metadata": {},
   "outputs": [],
   "source": [
    "b.send(b\"hi\")"
   ]
  },
  {
   "cell_type": "code",
   "execution_count": 7,
   "metadata": {},
   "outputs": [
    {
     "data": {
      "text/plain": [
       "[b'\\x00\\xa3\\x8e\\x1f)', b'hi']"
      ]
     },
     "execution_count": 7,
     "metadata": {},
     "output_type": "execute_result"
    }
   ],
   "source": [
    "a.recv_multipart()"
   ]
  },
  {
   "cell_type": "code",
   "execution_count": 9,
   "metadata": {},
   "outputs": [],
   "source": [
    "c.send_multipart([b'\\x00\\xa3\\x8e\\x1f)', b'bye'])"
   ]
  },
  {
   "cell_type": "code",
   "execution_count": 12,
   "metadata": {},
   "outputs": [
    {
     "data": {
      "text/plain": [
       "b'\\x00\\xa3\\x8e\\x1f)'"
      ]
     },
     "execution_count": 12,
     "metadata": {},
     "output_type": "execute_result"
    }
   ],
   "source": [
    "a.recv()"
   ]
  },
  {
   "cell_type": "code",
   "execution_count": null,
   "metadata": {},
   "outputs": [],
   "source": []
  }
 ],
 "metadata": {
  "kernelspec": {
   "display_name": "Python 3",
   "language": "python",
   "name": "python3"
  },
  "language_info": {
   "codemirror_mode": {
    "name": "ipython",
    "version": 3
   },
   "file_extension": ".py",
   "mimetype": "text/x-python",
   "name": "python",
   "nbconvert_exporter": "python",
   "pygments_lexer": "ipython3",
   "version": "3.7.3"
  }
 },
 "nbformat": 4,
 "nbformat_minor": 2
}
