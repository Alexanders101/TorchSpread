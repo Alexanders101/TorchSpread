{
 "cells": [
  {
   "cell_type": "code",
   "execution_count": 1,
   "metadata": {},
   "outputs": [],
   "source": [
    "import zmq\n",
    "import torch\n",
    "import pickle\n",
    "import torch\n",
    "from io import BytesIO\n",
    "from torch.multiprocessing.reductions import ForkingPickler, init_reductions, reduce_tensor\n",
    "import multiprocessing\n",
    "from time import time\n",
    "import numpy as np\n",
    "import utilities\n",
    "import cbor\n",
    "\n",
    "import NetworkWorker\n",
    "import NetworkManager\n",
    "import NetworkClient\n",
    "\n",
    "from NetworkManager import RequestManager, ResponseManager\n",
    "\n",
    "torch.multiprocessing.set_sharing_strategy(\"file_system\")"
   ]
  },
  {
   "cell_type": "code",
   "execution_count": 2,
   "metadata": {},
   "outputs": [],
   "source": [
    "class TwoLayerNet(torch.nn.Module):\n",
    "    def __init__(self, D_in, H, D_out):\n",
    "        \"\"\"\n",
    "        In the constructor we instantiate two nn.Linear modules and assign them as\n",
    "        member variables.\n",
    "        \"\"\"\n",
    "        super(TwoLayerNet, self).__init__()\n",
    "        self.linear1 = torch.nn.Linear(D_in, H)\n",
    "        self.hidden = torch.nn.Linear(H, H)\n",
    "        self.linear2 = torch.nn.Linear(H, D_out)\n",
    "\n",
    "    def forward(self, x):\n",
    "        \"\"\"\n",
    "        In the forward function we accept a Tensor of input data and we must return\n",
    "        a Tensor of output data. We can use Modules defined in the constructor as\n",
    "        well as arbitrary operators on Tensors.\n",
    "        \"\"\"\n",
    "        h_relu = self.linear1(x).clamp(min=0)\n",
    "        for _ in range(2):\n",
    "            h_relu = self.hidden(h_relu).clamp(min=0)\n",
    "        y_pred = self.linear2(h_relu)\n",
    "        return y_pred"
   ]
  },
  {
   "cell_type": "code",
   "execution_count": 3,
   "metadata": {},
   "outputs": [],
   "source": [
    "output_shape = (3, )\n",
    "output_type = torch.float32\n",
    "\n",
    "input_shape = (8, )\n",
    "input_type = torch.float32"
   ]
  },
  {
   "cell_type": "code",
   "execution_count": 4,
   "metadata": {},
   "outputs": [
    {
     "name": "stdout",
     "output_type": "stream",
     "text": [
      "Starting Request Manager\n",
      "Starting Response Manager\n",
      "Starting Synchronization Manager\n",
      "Starting Network b'N\\x00'\n",
      "Starting Local Network\n",
      "Synchronizing initial weights\n"
     ]
    }
   ],
   "source": [
    "manager = NetworkManager.NetworkManager(TwoLayerNet, input_shape, input_type, output_shape, output_type, D_in=8, H=32, D_out=3, batch_size=64)\n",
    "manager.start()"
   ]
  },
  {
   "cell_type": "code",
   "execution_count": 5,
   "metadata": {},
   "outputs": [],
   "source": [
    "class TestWorker(torch.multiprocessing.Process):\n",
    "    def __init__(self, config, count = 1_000):\n",
    "        super().__init__()\n",
    "        self.config = config\n",
    "        self.count = count\n",
    "        \n",
    "        self.ready = torch.multiprocessing.Event()\n",
    "        self.start_event = torch.multiprocessing.Event()\n",
    "    \n",
    "    def run(self):\n",
    "        client = NetworkClient.NetworkClient(self.config, 1)\n",
    "        client.register()\n",
    "        self.ready.set()\n",
    "        \n",
    "        while True:\n",
    "            self.start_event.wait()\n",
    "            self.start_event.clear()\n",
    "            \n",
    "            for _ in range(self.count):\n",
    "                client.predict_inplace()\n",
    "                \n",
    "            self.ready.set()"
   ]
  },
  {
   "cell_type": "code",
   "execution_count": 6,
   "metadata": {},
   "outputs": [],
   "source": [
    "workers = [TestWorker(manager.client_config, 1_000) for _ in range(32)]\n",
    "\n",
    "for worker in workers:\n",
    "    worker.start()\n",
    "    \n",
    "for worker in workers:\n",
    "    worker.ready.wait()"
   ]
  },
  {
   "cell_type": "code",
   "execution_count": 10,
   "metadata": {},
   "outputs": [],
   "source": [
    "for worker in workers:\n",
    "    worker.ready.clear()\n",
    "    worker.start_event.set()\n",
    "    \n",
    "for worker in workers:\n",
    "    worker.ready.wait()    "
   ]
  },
  {
   "cell_type": "code",
   "execution_count": 8,
   "metadata": {},
   "outputs": [],
   "source": []
  },
  {
   "cell_type": "code",
   "execution_count": 11,
   "metadata": {},
   "outputs": [],
   "source": [
    "manager.shutdown()"
   ]
  },
  {
   "cell_type": "code",
   "execution_count": 8,
   "metadata": {},
   "outputs": [],
   "source": [
    "x = torch.rand(1, 8)"
   ]
  },
  {
   "cell_type": "code",
   "execution_count": 9,
   "metadata": {},
   "outputs": [],
   "source": [
    "for _ in range(32):\n",
    "    for _ in range(1000):\n",
    "        with torch.no_grad():\n",
    "            manager._local_network(x)"
   ]
  },
  {
   "cell_type": "code",
   "execution_count": null,
   "metadata": {},
   "outputs": [],
   "source": []
  }
 ],
 "metadata": {
  "kernelspec": {
   "display_name": "Python 3",
   "language": "python",
   "name": "python3"
  },
  "language_info": {
   "codemirror_mode": {
    "name": "ipython",
    "version": 3
   },
   "file_extension": ".py",
   "mimetype": "text/x-python",
   "name": "python",
   "nbconvert_exporter": "python",
   "pygments_lexer": "ipython3",
   "version": "3.7.3"
  }
 },
 "nbformat": 4,
 "nbformat_minor": 2
}
