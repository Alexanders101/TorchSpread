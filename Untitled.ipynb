{
 "cells": [
  {
   "cell_type": "code",
   "execution_count": 1,
   "metadata": {},
   "outputs": [
    {
     "ename": "ModuleNotFoundError",
     "evalue": "No module named 'NetworkManager'",
     "output_type": "error",
     "traceback": [
      "\u001b[0;31m---------------------------------------------------------------------------\u001b[0m",
      "\u001b[0;31mModuleNotFoundError\u001b[0m                       Traceback (most recent call last)",
      "\u001b[0;32m<ipython-input-1-7377049faee6>\u001b[0m in \u001b[0;36m<module>\u001b[0;34m\u001b[0m\n\u001b[1;32m      3\u001b[0m \u001b[0;32mfrom\u001b[0m \u001b[0mtorch\u001b[0m\u001b[0;34m.\u001b[0m\u001b[0mnn\u001b[0m \u001b[0;32mimport\u001b[0m \u001b[0mfunctional\u001b[0m \u001b[0;32mas\u001b[0m \u001b[0mF\u001b[0m\u001b[0;34m\u001b[0m\u001b[0;34m\u001b[0m\u001b[0m\n\u001b[1;32m      4\u001b[0m \u001b[0;34m\u001b[0m\u001b[0m\n\u001b[0;32m----> 5\u001b[0;31m \u001b[0;32mfrom\u001b[0m \u001b[0mNetworkManager\u001b[0m \u001b[0;32mimport\u001b[0m \u001b[0mNetworkManager\u001b[0m\u001b[0;34m\u001b[0m\u001b[0;34m\u001b[0m\u001b[0m\n\u001b[0m\u001b[1;32m      6\u001b[0m \u001b[0;32mfrom\u001b[0m \u001b[0mNetworkClient\u001b[0m \u001b[0;32mimport\u001b[0m \u001b[0mNetworkClient\u001b[0m\u001b[0;34m\u001b[0m\u001b[0;34m\u001b[0m\u001b[0m\n\u001b[1;32m      7\u001b[0m \u001b[0;32mfrom\u001b[0m \u001b[0mTestMulti\u001b[0m \u001b[0;32mimport\u001b[0m \u001b[0mTwoLayerNet\u001b[0m\u001b[0;34m\u001b[0m\u001b[0;34m\u001b[0m\u001b[0m\n",
      "\u001b[0;31mModuleNotFoundError\u001b[0m: No module named 'NetworkManager'"
     ]
    }
   ],
   "source": [
    "import torch\n",
    "from torch import nn\n",
    "from torch.nn import functional as F\n",
    "\n",
    "from NetworkManager import NetworkManager\n",
    "from NetworkClient import NetworkClient\n",
    "from TestMulti import TwoLayerNet\n",
    "\n",
    "from tqdm import tqdm"
   ]
  },
  {
   "cell_type": "code",
   "execution_count": 22,
   "metadata": {},
   "outputs": [],
   "source": [
    "from typing import Iterable, Iterator, Generator\n",
    "def iterate_window(iterator: Iterable, n: int = 2) -> Generator:\n",
    "    \"\"\" Iterate over a sliding window of an iterator with no overlap.\n",
    "\n",
    "    Parameters\n",
    "    ----------\n",
    "    iterator: Iterable\n",
    "        The target to iterate over. Total length should be a multiple of n.\n",
    "    n: int\n",
    "        Window size\n",
    "\n",
    "    Returns\n",
    "    -------\n",
    "    Iterable\n",
    "        Generator for veiweing every n elements of the iterator.\n",
    "    \"\"\"\n",
    "    size = len(iterator)\n",
    "    iterator = iter(iterator)\n",
    "    for _ in range(0, size, n):\n",
    "        yield (next(iterator) for _ in range(n))"
   ]
  },
  {
   "cell_type": "code",
   "execution_count": 16,
   "metadata": {},
   "outputs": [],
   "source": [
    "a = [1, 2, 3, 4]"
   ]
  },
  {
   "cell_type": "code",
   "execution_count": 20,
   "metadata": {},
   "outputs": [
    {
     "data": {
      "text/plain": [
       "[<generator object iterate_window.<locals>.<genexpr> at 0x7f5ed714ce58>,\n",
       " <generator object iterate_window.<locals>.<genexpr> at 0x7f5ed714c8b8>]"
      ]
     },
     "execution_count": 20,
     "metadata": {},
     "output_type": "execute_result"
    }
   ],
   "source": [
    "list(iterate_window(a))"
   ]
  },
  {
   "cell_type": "code",
   "execution_count": 23,
   "metadata": {},
   "outputs": [
    {
     "data": {
      "text/plain": [
       "<generator object iterate_window at 0x7f5ed714ced0>"
      ]
     },
     "execution_count": 23,
     "metadata": {},
     "output_type": "execute_result"
    }
   ],
   "source": [
    "iterate_window(a)"
   ]
  },
  {
   "cell_type": "code",
   "execution_count": 7,
   "metadata": {},
   "outputs": [],
   "source": [
    "b = iter(a)"
   ]
  },
  {
   "cell_type": "code",
   "execution_count": 12,
   "metadata": {},
   "outputs": [
    {
     "ename": "StopIteration",
     "evalue": "",
     "output_type": "error",
     "traceback": [
      "\u001b[0;31m---------------------------------------------------------------------------\u001b[0m",
      "\u001b[0;31mStopIteration\u001b[0m                             Traceback (most recent call last)",
      "\u001b[0;32m<ipython-input-12-adb3e17b0219>\u001b[0m in \u001b[0;36m<module>\u001b[0;34m\u001b[0m\n\u001b[0;32m----> 1\u001b[0;31m \u001b[0mnext\u001b[0m\u001b[0;34m(\u001b[0m\u001b[0mb\u001b[0m\u001b[0;34m)\u001b[0m\u001b[0;34m\u001b[0m\u001b[0;34m\u001b[0m\u001b[0m\n\u001b[0m",
      "\u001b[0;31mStopIteration\u001b[0m: "
     ]
    }
   ],
   "source": [
    "next(b)"
   ]
  },
  {
   "cell_type": "code",
   "execution_count": null,
   "metadata": {},
   "outputs": [],
   "source": [
    "class TestWorker(torch.multiprocessing.Process):\n",
    "    def __init__(self, config, idx, d):\n",
    "        super().__init__()\n",
    "        self.config = config\n",
    "        self.idx = idx\n",
    "        self.d = d\n",
    "        \n",
    "        self.ready = torch.multiprocessing.Event()\n",
    "        self.start_event = torch.multiprocessing.Event()\n",
    "    \n",
    "    def run(self):\n",
    "        client = NetworkClient.NetworkClient(self.config, 1)\n",
    "        client.register()\n",
    "        self.ready.set()\n",
    "        \n",
    "        while True:\n",
    "            self.start_event.wait()\n",
    "            self.start_event.clear()\n",
    "            \n",
    "            client.input_buffer[:] = torch.zeros_like(client.input_buffer) + self.idx\n",
    "            out = client.predict_inplace()\n",
    "            self.d[self.idx] = out.numpy()\n",
    "            print(\"Worker {}: {}\".format(self.idx, out))\n",
    "                \n",
    "            self.ready.set()"
   ]
  },
  {
   "cell_type": "code",
   "execution_count": 3,
   "metadata": {},
   "outputs": [
    {
     "name": "stdout",
     "output_type": "stream",
     "text": [
      "Starting Request Manager\n",
      "Starting Response Manager\n",
      "Starting Synchronization Manager\n",
      "Starting Network b'N\\x00' on cpu\n",
      "Starting Network b'N\\x01' on cpu\n",
      "Starting Network b'N\\x02' on cpu\n",
      "Starting Network b'N\\x03' on cpu\n",
      "Starting Local Network\n",
      "Synchronizing initial weights\n"
     ]
    }
   ],
   "source": [
    "output_shape = (3, )\n",
    "output_type = torch.float32\n",
    "\n",
    "input_shape = {'x': (8, )}\n",
    "input_type = {'x': torch.float32}\n",
    "\n",
    "manager = NetworkManager(input_shape, input_type, output_shape, output_type, 1024, TwoLayerNet,\n",
    "                            network_args=[8, 32, 3], placement={'cpu': 4})\n",
    "manager.start()"
   ]
  },
  {
   "cell_type": "code",
   "execution_count": 4,
   "metadata": {},
   "outputs": [
    {
     "name": "stderr",
     "output_type": "stream",
     "text": [
      "100%|██████████| 10000/10000 [01:15<00:00, 132.35it/s]\n"
     ]
    }
   ],
   "source": [
    "for _ in tqdm(range(10000)):\n",
    "    with NetworkClient(manager.client_config, 32) as client:\n",
    "        pass"
   ]
  },
  {
   "cell_type": "code",
   "execution_count": 7,
   "metadata": {},
   "outputs": [],
   "source": [
    "del clients"
   ]
  },
  {
   "cell_type": "code",
   "execution_count": 8,
   "metadata": {},
   "outputs": [
    {
     "ename": "NameError",
     "evalue": "name 'clients' is not defined",
     "output_type": "error",
     "traceback": [
      "\u001b[0;31m---------------------------------------------------------------------------\u001b[0m",
      "\u001b[0;31mNameError\u001b[0m                                 Traceback (most recent call last)",
      "\u001b[0;32m<ipython-input-8-fbefa223f9ce>\u001b[0m in \u001b[0;36m<module>\u001b[0;34m\u001b[0m\n\u001b[0;32m----> 1\u001b[0;31m \u001b[0mclients\u001b[0m\u001b[0;34m[\u001b[0m\u001b[0;36m0\u001b[0m\u001b[0;34m]\u001b[0m\u001b[0;34m\u001b[0m\u001b[0;34m\u001b[0m\u001b[0m\n\u001b[0m",
      "\u001b[0;31mNameError\u001b[0m: name 'clients' is not defined"
     ]
    }
   ],
   "source": [
    "clients[0]"
   ]
  },
  {
   "cell_type": "code",
   "execution_count": 6,
   "metadata": {},
   "outputs": [
    {
     "data": {
      "text/plain": [
       "tensor([[-0.0816, -0.0583, -0.2316],\n",
       "        [-0.0816, -0.0583, -0.2316],\n",
       "        [-0.0816, -0.0583, -0.2316],\n",
       "        [-0.0816, -0.0583, -0.2316],\n",
       "        [-0.0816, -0.0583, -0.2316],\n",
       "        [-0.0816, -0.0583, -0.2316],\n",
       "        [-0.0816, -0.0583, -0.2316],\n",
       "        [-0.0816, -0.0583, -0.2316],\n",
       "        [-0.0816, -0.0583, -0.2316],\n",
       "        [-0.0816, -0.0583, -0.2316],\n",
       "        [-0.0816, -0.0583, -0.2316],\n",
       "        [-0.0816, -0.0583, -0.2316],\n",
       "        [-0.0816, -0.0583, -0.2316],\n",
       "        [-0.0816, -0.0583, -0.2316],\n",
       "        [-0.0816, -0.0583, -0.2316],\n",
       "        [-0.0816, -0.0583, -0.2316],\n",
       "        [-0.0816, -0.0583, -0.2316],\n",
       "        [-0.0816, -0.0583, -0.2316],\n",
       "        [-0.0816, -0.0583, -0.2316],\n",
       "        [-0.0816, -0.0583, -0.2316],\n",
       "        [-0.0816, -0.0583, -0.2316],\n",
       "        [-0.0816, -0.0583, -0.2316],\n",
       "        [-0.0816, -0.0583, -0.2316],\n",
       "        [-0.0816, -0.0583, -0.2316],\n",
       "        [-0.0816, -0.0583, -0.2316],\n",
       "        [-0.0816, -0.0583, -0.2316],\n",
       "        [-0.0816, -0.0583, -0.2316],\n",
       "        [-0.0816, -0.0583, -0.2316],\n",
       "        [-0.0816, -0.0583, -0.2316],\n",
       "        [-0.0816, -0.0583, -0.2316],\n",
       "        [-0.0816, -0.0583, -0.2316],\n",
       "        [-0.0816, -0.0583, -0.2316]])"
      ]
     },
     "execution_count": 6,
     "metadata": {},
     "output_type": "execute_result"
    }
   ],
   "source": [
    "client.predict_inplace()"
   ]
  },
  {
   "cell_type": "code",
   "execution_count": 7,
   "metadata": {},
   "outputs": [],
   "source": [
    "client.deregister()"
   ]
  },
  {
   "cell_type": "code",
   "execution_count": 4,
   "metadata": {},
   "outputs": [],
   "source": [
    "manager.shutdown()"
   ]
  },
  {
   "cell_type": "code",
   "execution_count": null,
   "metadata": {},
   "outputs": [],
   "source": [
    "            \n",
    "man = Manager()\n",
    "d = man.dict()\n",
    "workers = [TestWorker(manager.client_config, i, d) for i in range(128)]\n",
    "\n",
    "for worker in workers:\n",
    "    worker.start()\n",
    "    \n",
    "for worker in workers:\n",
    "    worker.ready.wait()\n",
    "\n",
    "for worker in workers:\n",
    "    worker.ready.clear()\n",
    "    worker.start_event.set()\n",
    "    \n",
    "for worker in workers:\n",
    "    worker.ready.wait()    \n",
    "\n",
    "x = torch.zeros(1, *input_shape)\n",
    "\n",
    "for i in range(len(workers)):\n",
    "    with torch.no_grad():\n",
    "        print(\"{}:{}\".format(i, manager._local_network(x + i).numpy()  - d[i]))"
   ]
  },
  {
   "cell_type": "code",
   "execution_count": 23,
   "metadata": {},
   "outputs": [],
   "source": [
    "with manager.training_network() as network:\n",
    "    optimizer = torch.optim.SGD(network.parameters(), 0.0001)\n",
    "    x = torch.zeros(128, *input_shape) + torch.unsqueeze(torch.arange(0, 128, dtype=torch.float), 1)\n",
    "    y = torch.zeros(128, *output_shape) + torch.unsqueeze(torch.arange(0, 128, dtype=torch.float), 1)\n",
    "    \n",
    "    loss = torch.nn.MSELoss()(network(x), y)\n",
    "    \n",
    "    optimizer.zero_grad()\n",
    "    loss.backward()\n",
    "    optimizer.step()"
   ]
  },
  {
   "cell_type": "code",
   "execution_count": 25,
   "metadata": {},
   "outputs": [
    {
     "data": {
      "text/plain": [
       "'fork'"
      ]
     },
     "execution_count": 25,
     "metadata": {},
     "output_type": "execute_result"
    }
   ],
   "source": [
    "multiprocessing.get_start_method()"
   ]
  },
  {
   "cell_type": "code",
   "execution_count": 17,
   "metadata": {},
   "outputs": [
    {
     "name": "stdout",
     "output_type": "stream",
     "text": [
      "0:[[0. 0. 0.]]\n",
      "1:[[0. 0. 0.]]\n",
      "2:[[0. 0. 0.]]\n",
      "3:[[0. 0. 0.]]\n",
      "4:[[0. 0. 0.]]\n",
      "5:[[0. 0. 0.]]\n",
      "6:[[0. 0. 0.]]\n",
      "7:[[0. 0. 0.]]\n",
      "8:[[0. 0. 0.]]\n",
      "9:[[0. 0. 0.]]\n",
      "10:[[0. 0. 0.]]\n",
      "11:[[0. 0. 0.]]\n",
      "12:[[0. 0. 0.]]\n",
      "13:[[0. 0. 0.]]\n",
      "14:[[0. 0. 0.]]\n",
      "15:[[0. 0. 0.]]\n",
      "16:[[0. 0. 0.]]\n",
      "17:[[0. 0. 0.]]\n",
      "18:[[0. 0. 0.]]\n",
      "19:[[0. 0. 0.]]\n",
      "20:[[0. 0. 0.]]\n",
      "21:[[0. 0. 0.]]\n",
      "22:[[0. 0. 0.]]\n",
      "23:[[0. 0. 0.]]\n",
      "24:[[0. 0. 0.]]\n",
      "25:[[0. 0. 0.]]\n",
      "26:[[0. 0. 0.]]\n",
      "27:[[0. 0. 0.]]\n",
      "28:[[0. 0. 0.]]\n",
      "29:[[0. 0. 0.]]\n",
      "30:[[0. 0. 0.]]\n",
      "31:[[0. 0. 0.]]\n",
      "32:[[0. 0. 0.]]\n",
      "33:[[0. 0. 0.]]\n",
      "34:[[0. 0. 0.]]\n",
      "35:[[0. 0. 0.]]\n",
      "36:[[0. 0. 0.]]\n",
      "37:[[0. 0. 0.]]\n",
      "38:[[0. 0. 0.]]\n",
      "39:[[0. 0. 0.]]\n",
      "40:[[0. 0. 0.]]\n",
      "41:[[0. 0. 0.]]\n",
      "42:[[0. 0. 0.]]\n",
      "43:[[0. 0. 0.]]\n",
      "44:[[0. 0. 0.]]\n",
      "45:[[0. 0. 0.]]\n",
      "46:[[0. 0. 0.]]\n",
      "47:[[0. 0. 0.]]\n",
      "48:[[0. 0. 0.]]\n",
      "49:[[0. 0. 0.]]\n",
      "50:[[0. 0. 0.]]\n",
      "51:[[0. 0. 0.]]\n",
      "52:[[0. 0. 0.]]\n",
      "53:[[0. 0. 0.]]\n",
      "54:[[0. 0. 0.]]\n",
      "55:[[0. 0. 0.]]\n",
      "56:[[0. 0. 0.]]\n",
      "57:[[0. 0. 0.]]\n",
      "58:[[0. 0. 0.]]\n",
      "59:[[0. 0. 0.]]\n",
      "60:[[0. 0. 0.]]\n",
      "61:[[0. 0. 0.]]\n",
      "62:[[0. 0. 0.]]\n",
      "63:[[0. 0. 0.]]\n",
      "64:[[0. 0. 0.]]\n",
      "65:[[0. 0. 0.]]\n",
      "66:[[0. 0. 0.]]\n",
      "67:[[0. 0. 0.]]\n",
      "68:[[0. 0. 0.]]\n",
      "69:[[0. 0. 0.]]\n",
      "70:[[0. 0. 0.]]\n",
      "71:[[0. 0. 0.]]\n",
      "72:[[0. 0. 0.]]\n",
      "73:[[0. 0. 0.]]\n",
      "74:[[0. 0. 0.]]\n",
      "75:[[0. 0. 0.]]\n",
      "76:[[0. 0. 0.]]\n",
      "77:[[0. 0. 0.]]\n",
      "78:[[0. 0. 0.]]\n",
      "79:[[0. 0. 0.]]\n",
      "80:[[0. 0. 0.]]\n",
      "81:[[0. 0. 0.]]\n",
      "82:[[0. 0. 0.]]\n",
      "83:[[0. 0. 0.]]\n",
      "84:[[0. 0. 0.]]\n",
      "85:[[0. 0. 0.]]\n",
      "86:[[0. 0. 0.]]\n",
      "87:[[0. 0. 0.]]\n",
      "88:[[0. 0. 0.]]\n",
      "89:[[0. 0. 0.]]\n",
      "90:[[0. 0. 0.]]\n",
      "91:[[0. 0. 0.]]\n",
      "92:[[0. 0. 0.]]\n",
      "93:[[0. 0. 0.]]\n",
      "94:[[0. 0. 0.]]\n",
      "95:[[0. 0. 0.]]\n",
      "96:[[0. 0. 0.]]\n",
      "97:[[0. 0. 0.]]\n",
      "98:[[0. 0. 0.]]\n",
      "99:[[0. 0. 0.]]\n",
      "100:[[0. 0. 0.]]\n",
      "101:[[0. 0. 0.]]\n",
      "102:[[0. 0. 0.]]\n",
      "103:[[0. 0. 0.]]\n",
      "104:[[0. 0. 0.]]\n",
      "105:[[0. 0. 0.]]\n",
      "106:[[0. 0. 0.]]\n",
      "107:[[0. 0. 0.]]\n",
      "108:[[0. 0. 0.]]\n",
      "109:[[0. 0. 0.]]\n",
      "110:[[0. 0. 0.]]\n",
      "111:[[0. 0. 0.]]\n",
      "112:[[0. 0. 0.]]\n",
      "113:[[0. 0. 0.]]\n",
      "114:[[0. 0. 0.]]\n",
      "115:[[0. 0. 0.]]\n",
      "116:[[0. 0. 0.]]\n",
      "117:[[0. 0. 0.]]\n",
      "118:[[0. 0. 0.]]\n",
      "119:[[0. 0. 0.]]\n",
      "120:[[0. 0. 0.]]\n",
      "121:[[0. 0. 0.]]\n",
      "122:[[0. 0. 0.]]\n",
      "123:[[0. 0. 0.]]\n",
      "124:[[0. 0. 0.]]\n",
      "125:[[0. 0. 0.]]\n",
      "126:[[0. 0. 0.]]\n",
      "127:[[0. 0. 0.]]\n"
     ]
    }
   ],
   "source": [
    "for worker in workers:\n",
    "    worker.ready.clear()\n",
    "    worker.start_event.set()\n",
    "    \n",
    "for worker in workers:\n",
    "    worker.ready.wait()    \n",
    "\n",
    "x = torch.zeros(1, *input_shape)\n",
    "\n",
    "for i in range(len(workers)):\n",
    "    with torch.no_grad():\n",
    "        print(\"{}:{}\".format(i, manager._local_network(x + i).numpy()  - d[i]))"
   ]
  },
  {
   "cell_type": "code",
   "execution_count": 11,
   "metadata": {},
   "outputs": [],
   "source": [
    "manager.shutdown()"
   ]
  },
  {
   "cell_type": "code",
   "execution_count": 8,
   "metadata": {},
   "outputs": [],
   "source": [
    "x = torch.rand(1, 8)"
   ]
  },
  {
   "cell_type": "code",
   "execution_count": 9,
   "metadata": {},
   "outputs": [],
   "source": [
    "for _ in range(32):\n",
    "    for _ in range(1000):\n",
    "        with torch.no_grad():\n",
    "            manager._local_network(x)"
   ]
  },
  {
   "cell_type": "code",
   "execution_count": null,
   "metadata": {},
   "outputs": [],
   "source": []
  }
 ],
 "metadata": {
  "kernelspec": {
   "display_name": "Python 3",
   "language": "python",
   "name": "python3"
  },
  "language_info": {
   "codemirror_mode": {
    "name": "ipython",
    "version": 3
   },
   "file_extension": ".py",
   "mimetype": "text/x-python",
   "name": "python",
   "nbconvert_exporter": "python",
   "pygments_lexer": "ipython3",
   "version": "3.7.3"
  }
 },
 "nbformat": 4,
 "nbformat_minor": 2
}
