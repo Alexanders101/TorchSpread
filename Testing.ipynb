{
 "cells": [
  {
   "cell_type": "code",
   "execution_count": 1,
   "metadata": {},
   "outputs": [],
   "source": [
    "import torch\n",
    "from torch import nn\n",
    "from torch.nn import functional as F\n",
    "\n",
    "from TorchSpread import NetworkClient, NetworkManager\n",
    "from TestMulti import ConvNet\n",
    "from TestCorrectness import TwoLayerNet\n",
    "\n",
    "from tqdm import tqdm\n",
    "import numpy as np\n",
    "\n",
    "from TorchSpread.RemoteManager import RemoteManager, RemoteHandler, RemoteCommands\n",
    "from TorchSpread.utilities import serialize_int, serialize_buffer, deserialize_buffer\n",
    "from TorchSpread.NetworkClient import RemoteClient\n",
    "\n",
    "from torchvision import datasets\n",
    "from lz4 import frame\n",
    "import msgpack"
   ]
  },
  {
   "cell_type": "code",
   "execution_count": 2,
   "metadata": {},
   "outputs": [
    {
     "name": "stdout",
     "output_type": "stream",
     "text": [
      "Starting Request Manager\n",
      "Starting Response Manager\n",
      "Starting Synchronization Manager\n",
      "Starting Network b'N\\x00' on cpu\n",
      "Starting Local Network\n",
      "Synchronizing initial weights\n",
      "Starting remote manager on *:1234\n"
     ]
    }
   ],
   "source": [
    "output_shape = (3, )\n",
    "output_type = torch.float32\n",
    "\n",
    "input_shape = {'x': (8, )}\n",
    "input_type = {'x': torch.float32}\n",
    "\n",
    "manager = NetworkManager(input_shape, input_type, output_shape, output_type, 1024, TwoLayerNet,\n",
    "                            network_args=[8, 32, 3], placement={'cpu': 1}, remote_manager=1234)\n",
    "manager.start()"
   ]
  },
  {
   "cell_type": "code",
   "execution_count": 7,
   "metadata": {},
   "outputs": [],
   "source": [
    "data = {'x': torch.rand(1024, 8)}\n",
    "# data = [torch.rand(1024, 8)]"
   ]
  },
  {
   "cell_type": "code",
   "execution_count": 9,
   "metadata": {},
   "outputs": [
    {
     "name": "stdout",
     "output_type": "stream",
     "text": [
      "tensor([[ 0.4074,  0.3170, -0.2234],\n",
      "        [ 0.3462,  0.2686, -0.2014],\n",
      "        [ 0.2283,  0.2391, -0.1812],\n",
      "        ...,\n",
      "        [ 0.2854,  0.1276, -0.1483],\n",
      "        [ 0.3009,  0.1787, -0.1129],\n",
      "        [ 0.3561,  0.2527, -0.2110]])\n"
     ]
    }
   ],
   "source": [
    "with NetworkClient(manager.client_config, 1024) as client:\n",
    "    print(client.predict(data))"
   ]
  },
  {
   "cell_type": "code",
   "execution_count": 8,
   "metadata": {},
   "outputs": [
    {
     "name": "stdout",
     "output_type": "stream",
     "text": [
      "tensor([[ 0.4074,  0.3170, -0.2234],\n",
      "        [ 0.3462,  0.2686, -0.2014],\n",
      "        [ 0.2283,  0.2391, -0.1812],\n",
      "        ...,\n",
      "        [ 0.2854,  0.1276, -0.1483],\n",
      "        [ 0.3009,  0.1787, -0.1129],\n",
      "        [ 0.3561,  0.2527, -0.2110]])\n"
     ]
    }
   ],
   "source": [
    "with RemoteClient(manager.client_config, 1024, 'localhost', 1234) as client:\n",
    "    print(client.predict(data))"
   ]
  },
  {
   "cell_type": "code",
   "execution_count": 10,
   "metadata": {},
   "outputs": [
    {
     "name": "stdout",
     "output_type": "stream",
     "text": [
      "tensor([[ 0.4074,  0.3170, -0.2234],\n",
      "        [ 0.3462,  0.2686, -0.2014],\n",
      "        [ 0.2283,  0.2391, -0.1812],\n",
      "        ...,\n",
      "        [ 0.2854,  0.1276, -0.1483],\n",
      "        [ 0.3009,  0.1787, -0.1129],\n",
      "        [ 0.3561,  0.2527, -0.2110]])\n"
     ]
    }
   ],
   "source": [
    "with RemoteClient(manager.client_config, 1024, 'localhost', 1234) as client:\n",
    "    client.predict_async(data)\n",
    "    print(client.receive_async())"
   ]
  },
  {
   "cell_type": "code",
   "execution_count": 11,
   "metadata": {},
   "outputs": [],
   "source": [
    "manager.shutdown()"
   ]
  },
  {
   "cell_type": "code",
   "execution_count": 6,
   "metadata": {},
   "outputs": [
    {
     "data": {
      "text/plain": [
       "tensor([[0.4221, 0.2679, 0.7554,  ..., 0.1050, 0.0284, 0.5971],\n",
       "        [0.6633, 0.6882, 0.4199,  ..., 0.0523, 0.6893, 0.4503],\n",
       "        [0.9526, 0.6089, 0.2221,  ..., 0.1973, 0.5023, 0.0361],\n",
       "        ...,\n",
       "        [0.6948, 0.1353, 0.7705,  ..., 0.7079, 0.1976, 0.5450],\n",
       "        [0.5291, 0.2652, 0.1406,  ..., 0.2775, 0.9925, 0.0059],\n",
       "        [0.6024, 0.5355, 0.5793,  ..., 0.0253, 0.1379, 0.0032]])"
      ]
     },
     "execution_count": 6,
     "metadata": {},
     "output_type": "execute_result"
    }
   ],
   "source": [
    "x = torch.rand((100, 64))\n",
    "x"
   ]
  },
  {
   "cell_type": "code",
   "execution_count": 29,
   "metadata": {},
   "outputs": [],
   "source": [
    "from lz4 import frame\n",
    "import _pickle as cPickle"
   ]
  },
  {
   "cell_type": "code",
   "execution_count": 97,
   "metadata": {},
   "outputs": [],
   "source": [
    "def _serialize_buffer(buffer, compress):\n",
    "    if isinstance(buffer, dict):\n",
    "        return {key: _serialize_buffer(val, compress) for key, val in buffer.items()}\n",
    "    elif isinstance(buffer, (list, tuple)):\n",
    "        return [_serialize_buffer(val, compress) for val in buffer]\n",
    "    elif isinstance(buffer, torch.Tensor):\n",
    "        buffer = buffer.numpy()\n",
    "        \n",
    "    pickled = buffer.tobytes()\n",
    "    pickled = frame.compress(pickled, compression_level=compress)\n",
    "    \n",
    "    shape = buffer.shape\n",
    "    dtype = buffer.dtype.str\n",
    "    \n",
    "    return (shape, dtype, pickled)\n",
    "\n",
    "def serialize_buffer(buffer, compress=3):\n",
    "    serialized = _serialize_buffer(buffer, compress)\n",
    "    serialized = cPickle.dumps(serialized)\n",
    "    return serialized\n",
    "\n",
    "def _deserialize_buffer(serialized):\n",
    "    if isinstance(serialized, dict):\n",
    "        return {key: _deserialize_buffer(val) for key, val in serialized.items()}\n",
    "    elif isinstance(serialized, list):\n",
    "        return [_deserialize_buffer(val) for val in serialized]    \n",
    "    \n",
    "    shape, dtype, pickled = serialized\n",
    "    array = np.frombuffer(frame.decompress(pickled), np.dtype(dtype)).reshape(shape)\n",
    "    return torch.from_numpy(array)\n",
    "    \n",
    "def deserialize_buffer(serialized):\n",
    "    serialized = cPickle.loads(serialized)\n",
    "    return _deserialize_buffer(serialized)\n",
    "\n",
    "def _deserialize_buffer_into(to_buffer, serialized, size: int, start_index: int = 0):\n",
    "    if isinstance(to_buffer, dict):\n",
    "        for key, to_tensor in to_buffer.items():\n",
    "            _deserialize_buffer_into(to_tensor, serialized[key], size, start_index)\n",
    "\n",
    "    elif isinstance(to_buffer, (list, tuple)):\n",
    "        for to_tensor, from_tensor in zip(to_buffer, serialized):\n",
    "            _deserialize_buffer_into(to_tensor, from_tensor, size, start_index)\n",
    "\n",
    "    else:\n",
    "        shape, dtype, pickled = serialize\n",
    "        from_buffer = np.frombuffer(frame.decompress(pickled), np.dtype(dtype)).reshape(shape)\n",
    "        to_buffer[start_index:start_index + size].copy_(from_buffer[:size])\n",
    "        \n",
    "def deserialize_buffer_into(to_buffer, serialized, size: int, start_index: int = 0):\n",
    "    serialized = cPickle.loads(serialized)\n",
    "    return _deserialize_buffer_into(to_buffer, serialized, size, start_index)"
   ]
  },
  {
   "cell_type": "code",
   "execution_count": 83,
   "metadata": {},
   "outputs": [
    {
     "ename": "SyntaxError",
     "evalue": "invalid syntax (<ipython-input-83-1dbc477277ca>, line 1)",
     "output_type": "error",
     "traceback": [
      "\u001b[1;36m  File \u001b[1;32m\"<ipython-input-83-1dbc477277ca>\"\u001b[1;36m, line \u001b[1;32m1\u001b[0m\n\u001b[1;33m    np.ones(128).dtype.\u001b[0m\n\u001b[1;37m                       ^\u001b[0m\n\u001b[1;31mSyntaxError\u001b[0m\u001b[1;31m:\u001b[0m invalid syntax\n"
     ]
    }
   ],
   "source": [
    "np.ones(128).dtype."
   ]
  },
  {
   "cell_type": "code",
   "execution_count": 91,
   "metadata": {},
   "outputs": [],
   "source": [
    "buffer = {'x': torch.ones(1024, 64)}"
   ]
  },
  {
   "cell_type": "code",
   "execution_count": 98,
   "metadata": {},
   "outputs": [
    {
     "data": {
      "text/plain": [
       "{'x': tensor([[1., 1., 1.,  ..., 1., 1., 1.],\n",
       "         [1., 1., 1.,  ..., 1., 1., 1.],\n",
       "         [1., 1., 1.,  ..., 1., 1., 1.],\n",
       "         ...,\n",
       "         [1., 1., 1.,  ..., 1., 1., 1.],\n",
       "         [1., 1., 1.,  ..., 1., 1., 1.],\n",
       "         [1., 1., 1.,  ..., 1., 1., 1.]])}"
      ]
     },
     "execution_count": 98,
     "metadata": {},
     "output_type": "execute_result"
    }
   ],
   "source": [
    "deserialize_buffer(serialize_buffer(buffer, 0))"
   ]
  },
  {
   "cell_type": "code",
   "execution_count": 23,
   "metadata": {},
   "outputs": [],
   "source": [
    "import numpy as np\n",
    "import dill\n",
    "\n"
   ]
  },
  {
   "cell_type": "code",
   "execution_count": 24,
   "metadata": {},
   "outputs": [
    {
     "name": "stdout",
     "output_type": "stream",
     "text": [
      "1.02 µs ± 5.7 ns per loop (mean ± std. dev. of 7 runs, 1000000 loops each)\n"
     ]
    }
   ],
   "source": [
    "%timeit cPickle.dumps((shape, pickled))"
   ]
  },
  {
   "cell_type": "code",
   "execution_count": 21,
   "metadata": {},
   "outputs": [],
   "source": [
    "send_pickle = dill.dumps((shape, pickled))"
   ]
  },
  {
   "cell_type": "code",
   "execution_count": 14,
   "metadata": {},
   "outputs": [
    {
     "data": {
      "text/plain": [
       "(3200,)"
      ]
     },
     "execution_count": 14,
     "metadata": {},
     "output_type": "execute_result"
    }
   ],
   "source": [
    "np.frombuffer(pickled).shape"
   ]
  },
  {
   "cell_type": "code",
   "execution_count": 3,
   "metadata": {},
   "outputs": [],
   "source": [
    "client = NetworkClient(manager.client_config, 32)\n",
    "client.register()"
   ]
  },
  {
   "cell_type": "code",
   "execution_count": 4,
   "metadata": {},
   "outputs": [
    {
     "data": {
      "text/plain": [
       "tensor([[ 0.0258, -0.3191,  0.2729],\n",
       "        [-0.0946, -0.2570,  0.1323],\n",
       "        [ 0.0021, -0.2726,  0.2965],\n",
       "        [ 0.0216, -0.1899,  0.1824],\n",
       "        [ 0.0584, -0.1536,  0.2238],\n",
       "        [ 0.0502, -0.2478,  0.2079],\n",
       "        [-0.0964, -0.2143,  0.2852],\n",
       "        [-0.0412, -0.3186,  0.2473],\n",
       "        [-0.1288, -0.2982,  0.2281],\n",
       "        [-0.0270, -0.2914,  0.2370],\n",
       "        [-0.0404, -0.2660,  0.2165],\n",
       "        [-0.1373, -0.2541,  0.1506]])"
      ]
     },
     "execution_count": 4,
     "metadata": {},
     "output_type": "execute_result"
    }
   ],
   "source": [
    "client.predict({'x': np.random.rand(12, 8).astype(np.float32)})"
   ]
  },
  {
   "cell_type": "code",
   "execution_count": 5,
   "metadata": {},
   "outputs": [],
   "source": [
    "client.predict_async({'x': torch.rand(12, 8)})"
   ]
  },
  {
   "cell_type": "code",
   "execution_count": 6,
   "metadata": {},
   "outputs": [
    {
     "data": {
      "text/plain": [
       "tensor([[ 0.0022, -0.3193,  0.2609],\n",
       "        [-0.0137, -0.2544,  0.1116],\n",
       "        [-0.1923, -0.2023,  0.0530],\n",
       "        [ 0.0327, -0.1611,  0.2772],\n",
       "        [ 0.0698, -0.1876,  0.1695],\n",
       "        [-0.0821, -0.2483,  0.0891],\n",
       "        [-0.0438, -0.2481,  0.2114],\n",
       "        [-0.1529, -0.2210,  0.1987],\n",
       "        [ 0.0363, -0.1481,  0.2720],\n",
       "        [-0.0607, -0.3359,  0.2068],\n",
       "        [-0.2062, -0.2370,  0.1008],\n",
       "        [-0.0058, -0.2721,  0.2263]])"
      ]
     },
     "execution_count": 6,
     "metadata": {},
     "output_type": "execute_result"
    }
   ],
   "source": [
    "client.receive_async()"
   ]
  },
  {
   "cell_type": "code",
   "execution_count": 5,
   "metadata": {},
   "outputs": [
    {
     "data": {
      "text/plain": [
       "tensor([[ 0.1722,  0.2221, -0.1633],\n",
       "        [ 0.1722,  0.2221, -0.1633],\n",
       "        [ 0.1722,  0.2221, -0.1633],\n",
       "        [ 0.1722,  0.2221, -0.1633],\n",
       "        [ 0.1722,  0.2221, -0.1633],\n",
       "        [ 0.1722,  0.2221, -0.1633],\n",
       "        [ 0.1722,  0.2221, -0.1633],\n",
       "        [ 0.1722,  0.2221, -0.1633],\n",
       "        [ 0.1722,  0.2221, -0.1633],\n",
       "        [ 0.1722,  0.2221, -0.1633],\n",
       "        [ 0.1722,  0.2221, -0.1633],\n",
       "        [ 0.1722,  0.2221, -0.1633]], grad_fn=<AddmmBackward>)"
      ]
     },
     "execution_count": 5,
     "metadata": {},
     "output_type": "execute_result"
    }
   ],
   "source": [
    "manager._local_network({'x': torch.zeros(12, 8)})"
   ]
  },
  {
   "cell_type": "code",
   "execution_count": 1,
   "metadata": {},
   "outputs": [
    {
     "ename": "NameError",
     "evalue": "name 'manager' is not defined",
     "output_type": "error",
     "traceback": [
      "\u001b[1;31m---------------------------------------------------------------------------\u001b[0m",
      "\u001b[1;31mNameError\u001b[0m                                 Traceback (most recent call last)",
      "\u001b[1;32m<ipython-input-1-0b6442ecb3bb>\u001b[0m in \u001b[0;36m<module>\u001b[1;34m\u001b[0m\n\u001b[1;32m----> 1\u001b[1;33m \u001b[0mmanager\u001b[0m\u001b[1;33m.\u001b[0m\u001b[0mshutdown\u001b[0m\u001b[1;33m(\u001b[0m\u001b[1;33m)\u001b[0m\u001b[1;33m\u001b[0m\u001b[1;33m\u001b[0m\u001b[0m\n\u001b[0m",
      "\u001b[1;31mNameError\u001b[0m: name 'manager' is not defined"
     ]
    }
   ],
   "source": [
    "manager.shutdown()"
   ]
  },
  {
   "cell_type": "code",
   "execution_count": null,
   "metadata": {},
   "outputs": [],
   "source": []
  },
  {
   "cell_type": "code",
   "execution_count": null,
   "metadata": {},
   "outputs": [],
   "source": [
    "for _ in tqdm(range(10000)):\n",
    "    with NetworkClient(manager.client_config, 32) as client:\n",
    "        pass"
   ]
  },
  {
   "cell_type": "code",
   "execution_count": 7,
   "metadata": {},
   "outputs": [],
   "source": [
    "del clients"
   ]
  },
  {
   "cell_type": "code",
   "execution_count": 8,
   "metadata": {},
   "outputs": [
    {
     "ename": "NameError",
     "evalue": "name 'clients' is not defined",
     "output_type": "error",
     "traceback": [
      "\u001b[0;31m---------------------------------------------------------------------------\u001b[0m",
      "\u001b[0;31mNameError\u001b[0m                                 Traceback (most recent call last)",
      "\u001b[0;32m<ipython-input-8-fbefa223f9ce>\u001b[0m in \u001b[0;36m<module>\u001b[0;34m\u001b[0m\n\u001b[0;32m----> 1\u001b[0;31m \u001b[0mclients\u001b[0m\u001b[0;34m[\u001b[0m\u001b[0;36m0\u001b[0m\u001b[0;34m]\u001b[0m\u001b[0;34m\u001b[0m\u001b[0;34m\u001b[0m\u001b[0m\n\u001b[0m",
      "\u001b[0;31mNameError\u001b[0m: name 'clients' is not defined"
     ]
    }
   ],
   "source": [
    "clients[0]"
   ]
  },
  {
   "cell_type": "code",
   "execution_count": 6,
   "metadata": {},
   "outputs": [
    {
     "data": {
      "text/plain": [
       "tensor([[-0.0816, -0.0583, -0.2316],\n",
       "        [-0.0816, -0.0583, -0.2316],\n",
       "        [-0.0816, -0.0583, -0.2316],\n",
       "        [-0.0816, -0.0583, -0.2316],\n",
       "        [-0.0816, -0.0583, -0.2316],\n",
       "        [-0.0816, -0.0583, -0.2316],\n",
       "        [-0.0816, -0.0583, -0.2316],\n",
       "        [-0.0816, -0.0583, -0.2316],\n",
       "        [-0.0816, -0.0583, -0.2316],\n",
       "        [-0.0816, -0.0583, -0.2316],\n",
       "        [-0.0816, -0.0583, -0.2316],\n",
       "        [-0.0816, -0.0583, -0.2316],\n",
       "        [-0.0816, -0.0583, -0.2316],\n",
       "        [-0.0816, -0.0583, -0.2316],\n",
       "        [-0.0816, -0.0583, -0.2316],\n",
       "        [-0.0816, -0.0583, -0.2316],\n",
       "        [-0.0816, -0.0583, -0.2316],\n",
       "        [-0.0816, -0.0583, -0.2316],\n",
       "        [-0.0816, -0.0583, -0.2316],\n",
       "        [-0.0816, -0.0583, -0.2316],\n",
       "        [-0.0816, -0.0583, -0.2316],\n",
       "        [-0.0816, -0.0583, -0.2316],\n",
       "        [-0.0816, -0.0583, -0.2316],\n",
       "        [-0.0816, -0.0583, -0.2316],\n",
       "        [-0.0816, -0.0583, -0.2316],\n",
       "        [-0.0816, -0.0583, -0.2316],\n",
       "        [-0.0816, -0.0583, -0.2316],\n",
       "        [-0.0816, -0.0583, -0.2316],\n",
       "        [-0.0816, -0.0583, -0.2316],\n",
       "        [-0.0816, -0.0583, -0.2316],\n",
       "        [-0.0816, -0.0583, -0.2316],\n",
       "        [-0.0816, -0.0583, -0.2316]])"
      ]
     },
     "execution_count": 6,
     "metadata": {},
     "output_type": "execute_result"
    }
   ],
   "source": [
    "client.predict_inplace()"
   ]
  },
  {
   "cell_type": "code",
   "execution_count": 7,
   "metadata": {},
   "outputs": [],
   "source": [
    "client.deregister()"
   ]
  },
  {
   "cell_type": "code",
   "execution_count": 4,
   "metadata": {},
   "outputs": [],
   "source": [
    "manager.shutdown()"
   ]
  },
  {
   "cell_type": "code",
   "execution_count": null,
   "metadata": {},
   "outputs": [],
   "source": [
    "            \n",
    "man = Manager()\n",
    "d = man.dict()\n",
    "workers = [TestWorker(manager.client_config, i, d) for i in range(128)]\n",
    "\n",
    "for worker in workers:\n",
    "    worker.start()\n",
    "    \n",
    "for worker in workers:\n",
    "    worker.ready.wait()\n",
    "\n",
    "for worker in workers:\n",
    "    worker.ready.clear()\n",
    "    worker.start_event.set()\n",
    "    \n",
    "for worker in workers:\n",
    "    worker.ready.wait()    \n",
    "\n",
    "x = torch.zeros(1, *input_shape)\n",
    "\n",
    "for i in range(len(workers)):\n",
    "    with torch.no_grad():\n",
    "        print(\"{}:{}\".format(i, manager._local_network(x + i).numpy()  - d[i]))"
   ]
  },
  {
   "cell_type": "code",
   "execution_count": 23,
   "metadata": {},
   "outputs": [],
   "source": [
    "with manager.training_network() as network:\n",
    "    optimizer = torch.optim.SGD(network.parameters(), 0.0001)\n",
    "    x = torch.zeros(128, *input_shape) + torch.unsqueeze(torch.arange(0, 128, dtype=torch.float), 1)\n",
    "    y = torch.zeros(128, *output_shape) + torch.unsqueeze(torch.arange(0, 128, dtype=torch.float), 1)\n",
    "    \n",
    "    loss = torch.nn.MSELoss()(network(x), y)\n",
    "    \n",
    "    optimizer.zero_grad()\n",
    "    loss.backward()\n",
    "    optimizer.step()"
   ]
  },
  {
   "cell_type": "code",
   "execution_count": 25,
   "metadata": {},
   "outputs": [
    {
     "data": {
      "text/plain": [
       "'fork'"
      ]
     },
     "execution_count": 25,
     "metadata": {},
     "output_type": "execute_result"
    }
   ],
   "source": [
    "multiprocessing.get_start_method()"
   ]
  },
  {
   "cell_type": "code",
   "execution_count": 17,
   "metadata": {},
   "outputs": [
    {
     "name": "stdout",
     "output_type": "stream",
     "text": [
      "0:[[0. 0. 0.]]\n",
      "1:[[0. 0. 0.]]\n",
      "2:[[0. 0. 0.]]\n",
      "3:[[0. 0. 0.]]\n",
      "4:[[0. 0. 0.]]\n",
      "5:[[0. 0. 0.]]\n",
      "6:[[0. 0. 0.]]\n",
      "7:[[0. 0. 0.]]\n",
      "8:[[0. 0. 0.]]\n",
      "9:[[0. 0. 0.]]\n",
      "10:[[0. 0. 0.]]\n",
      "11:[[0. 0. 0.]]\n",
      "12:[[0. 0. 0.]]\n",
      "13:[[0. 0. 0.]]\n",
      "14:[[0. 0. 0.]]\n",
      "15:[[0. 0. 0.]]\n",
      "16:[[0. 0. 0.]]\n",
      "17:[[0. 0. 0.]]\n",
      "18:[[0. 0. 0.]]\n",
      "19:[[0. 0. 0.]]\n",
      "20:[[0. 0. 0.]]\n",
      "21:[[0. 0. 0.]]\n",
      "22:[[0. 0. 0.]]\n",
      "23:[[0. 0. 0.]]\n",
      "24:[[0. 0. 0.]]\n",
      "25:[[0. 0. 0.]]\n",
      "26:[[0. 0. 0.]]\n",
      "27:[[0. 0. 0.]]\n",
      "28:[[0. 0. 0.]]\n",
      "29:[[0. 0. 0.]]\n",
      "30:[[0. 0. 0.]]\n",
      "31:[[0. 0. 0.]]\n",
      "32:[[0. 0. 0.]]\n",
      "33:[[0. 0. 0.]]\n",
      "34:[[0. 0. 0.]]\n",
      "35:[[0. 0. 0.]]\n",
      "36:[[0. 0. 0.]]\n",
      "37:[[0. 0. 0.]]\n",
      "38:[[0. 0. 0.]]\n",
      "39:[[0. 0. 0.]]\n",
      "40:[[0. 0. 0.]]\n",
      "41:[[0. 0. 0.]]\n",
      "42:[[0. 0. 0.]]\n",
      "43:[[0. 0. 0.]]\n",
      "44:[[0. 0. 0.]]\n",
      "45:[[0. 0. 0.]]\n",
      "46:[[0. 0. 0.]]\n",
      "47:[[0. 0. 0.]]\n",
      "48:[[0. 0. 0.]]\n",
      "49:[[0. 0. 0.]]\n",
      "50:[[0. 0. 0.]]\n",
      "51:[[0. 0. 0.]]\n",
      "52:[[0. 0. 0.]]\n",
      "53:[[0. 0. 0.]]\n",
      "54:[[0. 0. 0.]]\n",
      "55:[[0. 0. 0.]]\n",
      "56:[[0. 0. 0.]]\n",
      "57:[[0. 0. 0.]]\n",
      "58:[[0. 0. 0.]]\n",
      "59:[[0. 0. 0.]]\n",
      "60:[[0. 0. 0.]]\n",
      "61:[[0. 0. 0.]]\n",
      "62:[[0. 0. 0.]]\n",
      "63:[[0. 0. 0.]]\n",
      "64:[[0. 0. 0.]]\n",
      "65:[[0. 0. 0.]]\n",
      "66:[[0. 0. 0.]]\n",
      "67:[[0. 0. 0.]]\n",
      "68:[[0. 0. 0.]]\n",
      "69:[[0. 0. 0.]]\n",
      "70:[[0. 0. 0.]]\n",
      "71:[[0. 0. 0.]]\n",
      "72:[[0. 0. 0.]]\n",
      "73:[[0. 0. 0.]]\n",
      "74:[[0. 0. 0.]]\n",
      "75:[[0. 0. 0.]]\n",
      "76:[[0. 0. 0.]]\n",
      "77:[[0. 0. 0.]]\n",
      "78:[[0. 0. 0.]]\n",
      "79:[[0. 0. 0.]]\n",
      "80:[[0. 0. 0.]]\n",
      "81:[[0. 0. 0.]]\n",
      "82:[[0. 0. 0.]]\n",
      "83:[[0. 0. 0.]]\n",
      "84:[[0. 0. 0.]]\n",
      "85:[[0. 0. 0.]]\n",
      "86:[[0. 0. 0.]]\n",
      "87:[[0. 0. 0.]]\n",
      "88:[[0. 0. 0.]]\n",
      "89:[[0. 0. 0.]]\n",
      "90:[[0. 0. 0.]]\n",
      "91:[[0. 0. 0.]]\n",
      "92:[[0. 0. 0.]]\n",
      "93:[[0. 0. 0.]]\n",
      "94:[[0. 0. 0.]]\n",
      "95:[[0. 0. 0.]]\n",
      "96:[[0. 0. 0.]]\n",
      "97:[[0. 0. 0.]]\n",
      "98:[[0. 0. 0.]]\n",
      "99:[[0. 0. 0.]]\n",
      "100:[[0. 0. 0.]]\n",
      "101:[[0. 0. 0.]]\n",
      "102:[[0. 0. 0.]]\n",
      "103:[[0. 0. 0.]]\n",
      "104:[[0. 0. 0.]]\n",
      "105:[[0. 0. 0.]]\n",
      "106:[[0. 0. 0.]]\n",
      "107:[[0. 0. 0.]]\n",
      "108:[[0. 0. 0.]]\n",
      "109:[[0. 0. 0.]]\n",
      "110:[[0. 0. 0.]]\n",
      "111:[[0. 0. 0.]]\n",
      "112:[[0. 0. 0.]]\n",
      "113:[[0. 0. 0.]]\n",
      "114:[[0. 0. 0.]]\n",
      "115:[[0. 0. 0.]]\n",
      "116:[[0. 0. 0.]]\n",
      "117:[[0. 0. 0.]]\n",
      "118:[[0. 0. 0.]]\n",
      "119:[[0. 0. 0.]]\n",
      "120:[[0. 0. 0.]]\n",
      "121:[[0. 0. 0.]]\n",
      "122:[[0. 0. 0.]]\n",
      "123:[[0. 0. 0.]]\n",
      "124:[[0. 0. 0.]]\n",
      "125:[[0. 0. 0.]]\n",
      "126:[[0. 0. 0.]]\n",
      "127:[[0. 0. 0.]]\n"
     ]
    }
   ],
   "source": [
    "for worker in workers:\n",
    "    worker.ready.clear()\n",
    "    worker.start_event.set()\n",
    "    \n",
    "for worker in workers:\n",
    "    worker.ready.wait()    \n",
    "\n",
    "x = torch.zeros(1, *input_shape)\n",
    "\n",
    "for i in range(len(workers)):\n",
    "    with torch.no_grad():\n",
    "        print(\"{}:{}\".format(i, manager._local_network(x + i).numpy()  - d[i]))"
   ]
  },
  {
   "cell_type": "code",
   "execution_count": 11,
   "metadata": {},
   "outputs": [],
   "source": [
    "manager.shutdown()"
   ]
  },
  {
   "cell_type": "code",
   "execution_count": 8,
   "metadata": {},
   "outputs": [],
   "source": [
    "x = torch.rand(1, 8)"
   ]
  },
  {
   "cell_type": "code",
   "execution_count": 9,
   "metadata": {},
   "outputs": [],
   "source": [
    "for _ in range(32):\n",
    "    for _ in range(1000):\n",
    "        with torch.no_grad():\n",
    "            manager._local_network(x)"
   ]
  },
  {
   "cell_type": "code",
   "execution_count": null,
   "metadata": {},
   "outputs": [],
   "source": []
  }
 ],
 "metadata": {
  "kernelspec": {
   "display_name": "Python 3",
   "language": "python",
   "name": "python3"
  },
  "language_info": {
   "codemirror_mode": {
    "name": "ipython",
    "version": 3
   },
   "file_extension": ".py",
   "mimetype": "text/x-python",
   "name": "python",
   "nbconvert_exporter": "python",
   "pygments_lexer": "ipython3",
   "version": "3.7.6"
  }
 },
 "nbformat": 4,
 "nbformat_minor": 4
}
